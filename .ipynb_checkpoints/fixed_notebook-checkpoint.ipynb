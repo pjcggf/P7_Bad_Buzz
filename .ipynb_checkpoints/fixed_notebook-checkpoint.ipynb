{
 "cells": [
  {
   "cell_type": "markdown",
   "id": "6b683bbc",
   "metadata": {},
   "source": [
    "# Import canonique"
   ]
  },
  {
   "cell_type": "code",
   "execution_count": 1,
   "id": "00c7c6a5",
   "metadata": {
    "ExecuteTime": {
     "end_time": "2023-11-04T14:39:01.707758Z",
     "start_time": "2023-11-04T14:38:59.154412Z"
    }
   },
   "outputs": [
    {
     "name": "stderr",
     "output_type": "stream",
     "text": [
      "2023-11-04 15:39:00.466935: I tensorflow/core/util/port.cc:111] oneDNN custom operations are on. You may see slightly different numerical results due to floating-point round-off errors from different computation orders. To turn them off, set the environment variable `TF_ENABLE_ONEDNN_OPTS=0`.\n",
      "2023-11-04 15:39:00.468564: I tensorflow/tsl/cuda/cudart_stub.cc:28] Could not find cuda drivers on your machine, GPU will not be used.\n",
      "2023-11-04 15:39:00.493438: E tensorflow/compiler/xla/stream_executor/cuda/cuda_dnn.cc:9342] Unable to register cuDNN factory: Attempting to register factory for plugin cuDNN when one has already been registered\n",
      "2023-11-04 15:39:00.493459: E tensorflow/compiler/xla/stream_executor/cuda/cuda_fft.cc:609] Unable to register cuFFT factory: Attempting to register factory for plugin cuFFT when one has already been registered\n",
      "2023-11-04 15:39:00.493476: E tensorflow/compiler/xla/stream_executor/cuda/cuda_blas.cc:1518] Unable to register cuBLAS factory: Attempting to register factory for plugin cuBLAS when one has already been registered\n",
      "2023-11-04 15:39:00.498123: I tensorflow/tsl/cuda/cudart_stub.cc:28] Could not find cuda drivers on your machine, GPU will not be used.\n",
      "2023-11-04 15:39:00.498471: I tensorflow/core/platform/cpu_feature_guard.cc:182] This TensorFlow binary is optimized to use available CPU instructions in performance-critical operations.\n",
      "To enable the following instructions: AVX2 AVX_VNNI FMA, in other operations, rebuild TensorFlow with the appropriate compiler flags.\n",
      "2023-11-04 15:39:01.131723: W tensorflow/compiler/tf2tensorrt/utils/py_utils.cc:38] TF-TRT Warning: Could not find TensorRT\n"
     ]
    }
   ],
   "source": [
    "# Experiment tracking\n",
    "import mlflow\n",
    "from mlflow.data.pandas_dataset import PandasDataset\n",
    "\n",
    "# DataFrame\n",
    "import numpy as np\n",
    "import pandas as pd\n",
    "from parallel_pandas import ParallelPandas\n",
    "\n",
    "# Initialize parallel-pandas\n",
    "ParallelPandas.initialize(n_cpu=14,\n",
    "                          split_factor=4,\n",
    "                          disable_pr_bar=False,\n",
    "                          show_vmem=True)\n",
    "\n",
    "# Matplot\n",
    "import matplotlib.pyplot as plt\n",
    "import seaborn as sns\n",
    "\n",
    "# # Scikit-learn\n",
    "from sklearn.metrics import accuracy_score, precision_score, recall_score, f1_score\n",
    "from sklearn.model_selection import train_test_split, learning_curve, cross_val_score,\\\n",
    "                                    GridSearchCV, RandomizedSearchCV\n",
    "from sklearn.pipeline import make_pipeline\n",
    "from sklearn.linear_model import LogisticRegression\n",
    "\n",
    "# from sklearn.metrics import confusion_matrix, classification_report\n",
    "# from sklearn.manifold import TSNE\n",
    "from sklearn.feature_extraction.text import TfidfVectorizer\n",
    "\n",
    "# # Keras\n",
    "from tensorflow.keras.preprocessing.text import Tokenizer\n",
    "from tensorflow.keras.preprocessing.sequence import pad_sequences\n",
    "from tensorflow.keras import Sequential, regularizers\n",
    "from tensorflow.keras.constraints import MinMaxNorm\n",
    "from tensorflow.keras.layers import LSTM, Dense, Embedding, GRU, Bidirectional\n",
    "from tensorflow.keras.callbacks import EarlyStopping\n",
    "from tensorflow.keras.metrics import Accuracy, Precision, Recall, F1Score\n",
    "\n",
    "\n",
    "# from keras.layers import Activation, Dense, Dropout, Embedding, Flatten, Conv1D, MaxPooling1D, LSTM\n",
    "# from keras import utils\n",
    "\n",
    "# nltk\n",
    "import nltk\n",
    "from nltk.corpus import stopwords\n",
    "from nltk.stem import SnowballStemmer, WordNetLemmatizer\n",
    "\n",
    "# Word2vec\n",
    "from gensim.models import Word2Vec\n",
    "\n",
    "# # Utility\n",
    "import re\n",
    "# import os\n",
    "# from collections import Counter\n",
    "# import logging\n",
    "# import time\n",
    "# import pickle\n",
    "# import itertools\n",
    "\n",
    "\n",
    "def compress(df, **kwargs):\n",
    "    \"\"\"\n",
    "    Reduces size of dataframe by downcasting numerical columns\n",
    "    \"\"\"\n",
    "    input_size = df.memory_usage(index=True).sum() / 1024\n",
    "    print(\"new dataframe size: \", round(input_size, 2), 'kB')\n",
    "\n",
    "    in_size = df.memory_usage(index=True).sum()\n",
    "    for type in [\"float\", \"integer\"]:\n",
    "        l_cols = list(df.select_dtypes(include=type))\n",
    "        for col in l_cols:\n",
    "            df[col] = pd.to_numeric(df[col], downcast=type)\n",
    "    out_size = df.memory_usage(index=True).sum()\n",
    "    ratio = (1 - round(out_size / in_size, 2)) * 100\n",
    "\n",
    "    print(\"optimized size by {} %\".format(round(ratio, 2)))\n",
    "    print(\"new dataframe size: \", round(out_size / 1024, 2), \" kB\")\n",
    "\n",
    "    return df\n",
    "\n",
    "\n",
    "# Regex de nettoyage\n",
    "# TEXT_CLEANING_RE = '@\\S+|https\\S+|http\\S+|&.*;|\\d+|[^a-zA-Z]'\n",
    "TEXT_CLEANING_RE = '@\\S+|https?:\\S+|http?:\\S|[^A-Za-z0-9]+'\n",
    "# Dict des stop words\n",
    "stop_words = stopwords.words(\"english\")\n",
    "# Stemmer\n",
    "stemmer = SnowballStemmer(\"english\")\n",
    "\n",
    "def cleaning_text_stem(text, exclude_stop_words=True):\n",
    " \n",
    "    text = re.sub(TEXT_CLEANING_RE, ' ', str(text).lower()).strip()\n",
    " \n",
    "    tokens = []\n",
    "    if exclude_stop_words:\n",
    "        for token in text.split():\n",
    "            if token not in stop_words:\n",
    "                tokens.append(stemmer.stem(token)) \n",
    "    else:\n",
    "        for token in text.split():\n",
    "            tokens.append(stemmer.stem(token))     \n",
    "                \n",
    "    return tokens\n",
    "\n",
    "\n",
    "def cleaning_text_lemma(text, exclude_stop_words=True, pos='v'):\n",
    " \n",
    "    text = re.sub(TEXT_CLEANING_RE, ' ', str(text).lower()).strip()\n",
    " \n",
    "    if exclude_stop_words:\n",
    "        tokens = [token for token in text.split() if token not in stop_words]\n",
    "    else:\n",
    "        tokens = [token for token in text.split()]\n",
    "    \n",
    "    if pos in ['v', 'n']:\n",
    "            tokens = [WordNetLemmatizer().lemmatize(token, pos = pos)for token in tokens]\n",
    "    else:\n",
    "        raise AttributeError(f'Le param `pos` ne peut pas prendre la valeur {pos}, uniquement `v` ou `n`.')\n",
    "            \n",
    "                \n",
    "    return tokens\n",
    "\n",
    "\n",
    "\n",
    "\n",
    "def import_data()->pd.DataFrame:\n",
    "    \"\"\"\n",
    "    Renvoie le dataset complet (~1.6 m tweets) dédoublonné non traité et sans `user`, `date` et `flag`.\n",
    "    \"\"\"\n",
    "    DATASET_COLUMNS = [\"target\", \"ids\", \"date\", \"flag\", \"user\", \"text\"]\n",
    "    df = pd.read_csv('./data/training.1600000.processed.noemoticon.csv',\n",
    "                     encoding='latin',\n",
    "                     header=None,\n",
    "                     names=DATASET_COLUMNS)\n",
    "    df.drop(['user', 'date', 'flag'], axis=1, inplace=True)\n",
    "    df = df[~df.ids.duplicated(keep=False)].reset_index(drop=True)\n",
    "\n",
    "    return compress(df)\n",
    "\n",
    "\n",
    "def get_train_and_test_set(df: pd.DataFrame,\n",
    "                           test_size: float = 0.2,\n",
    "                           sample: bool = False,\n",
    "                           sample_size: int = 4000,\n",
    "                           lemmatizing: bool = True,\n",
    "                           pos: str = 'v',\n",
    "                           exclude_stop_words: bool = True) -> np.array:\n",
    "    \"\"\"\n",
    "    Renvoie les jeux de données d'entrainement et de test traités (X_train, X_test, y_train, y_test)\n",
    "    \"\"\"\n",
    "    if sample:\n",
    "        df = df.sample(sample_size, random_state=32)\n",
    "        \n",
    "    if lemmatizing:\n",
    "        df['text_norm'] = df.text.p_apply(cleaning_text_lemma, pos=pos, exclude_stop_words=exclude_stop_words)\n",
    "\n",
    "    else:\n",
    "        df['text_norm'] = df.text.p_apply(cleaning_text_stem, exclude_stop_words=exclude_stop_words)\n",
    "        \n",
    "\n",
    "    df_train, df_test = train_test_split(df,\n",
    "                                     test_size=test_size,\n",
    "                                     random_state=32)\n",
    "    X_train = df_train.text_norm\n",
    "    X_test = df_test.text_norm\n",
    "    y_train = df_train.target.apply(lambda x: 1 if x == 4 else 0).to_numpy()\n",
    "    y_test = df_test.target.apply(lambda x: 1 if x == 4 else 0).to_numpy()\n",
    "    \n",
    "    return X_train, X_test, y_train, y_test\n",
    "\n",
    "def get_train_val_and_test_set(df: pd.DataFrame,\n",
    "                           test_size: float = 0.2,\n",
    "                           sample: bool = False,\n",
    "                           sample_size: int = 4000,\n",
    "                           lemmatizing: bool = True,\n",
    "                           pos: str = 'v',\n",
    "                           exclude_stop_words: bool = True) -> np.array:\n",
    "    \"\"\"\n",
    "    Renvoie les jeux de données d'entrainement, de validation et de test traités \n",
    "    (X_train, X_val, X_test, y_train, y_val, y_test)\n",
    "    \"\"\"\n",
    "    if sample:\n",
    "        df = df.sample(sample_size, random_state=32)\n",
    "        \n",
    "    if lemmatizing:\n",
    "        df['text_norm'] = df.text.p_apply(cleaning_text_lemma, pos=pos, exclude_stop_words=exclude_stop_words)\n",
    "\n",
    "    else:\n",
    "        df['text_norm'] = df.text.p_apply(cleaning_text_stem, exclude_stop_words=exclude_stop_words)\n",
    "        \n",
    "\n",
    "    df_train, df_test = train_test_split(df,\n",
    "                                     test_size=test_size,\n",
    "                                     random_state=32)\n",
    "    \n",
    "    df_train, df_val = train_test_split(df_train,\n",
    "                                     test_size=test_size,\n",
    "                                     random_state=32)\n",
    "    X_train = df_train.text_norm\n",
    "    X_val = df_val.text_norm\n",
    "    X_test = df_test.text_norm\n",
    "    y_train = df_train.target.apply(lambda x: 1 if x == 4 else 0).to_numpy()\n",
    "    y_val = df_val.target.apply(lambda x: 1 if x == 4 else 0).to_numpy()\n",
    "    y_test = df_test.target.apply(lambda x: 1 if x == 4 else 0).to_numpy()\n",
    "    \n",
    "    return X_train, X_val, X_test, y_train, y_val, y_test"
   ]
  },
  {
   "cell_type": "markdown",
   "id": "2f08994d",
   "metadata": {},
   "source": [
    "# Instanciation ML Flow\n"
   ]
  },
  {
   "cell_type": "code",
   "execution_count": 3,
   "id": "15eeeff1",
   "metadata": {
    "ExecuteTime": {
     "end_time": "2023-11-04T07:29:52.865807Z",
     "start_time": "2023-11-04T07:29:52.862416Z"
    }
   },
   "outputs": [],
   "source": [
    "client = mlflow.MlflowClient(tracking_uri=\"http://127.0.0.1:8080\")"
   ]
  },
  {
   "cell_type": "code",
   "execution_count": 4,
   "id": "9c1a0a6e",
   "metadata": {
    "ExecuteTime": {
     "end_time": "2023-11-01T18:09:06.633766Z",
     "start_time": "2023-11-01T18:09:06.627445Z"
    }
   },
   "outputs": [
    {
     "data": {
      "text/plain": [
       "<Experiment: artifact_location='mlflow-artifacts:/683861977635733286', creation_time=1698859490480, experiment_id='683861977635733286', last_update_time=1698859490480, lifecycle_stage='active', name='modele_simple', tags={'dataset_size': '5000',\n",
       " 'mlflow.note.content': 'P7 OC : Détection de bad buzz dans des tweetsCette '\n",
       "                        'expérimentation se fait sur les données prepocessées '\n",
       "                        'vectorisées via Tf-idf et passées à une régression '\n",
       "                        'logistique.',\n",
       " 'model_classif': 'regression_logistique',\n",
       " 'preprocessing_lemmatization_pos': 'verb',\n",
       " 'preprocessing_normalisation': 'lemmatization',\n",
       " 'preprocessing_stop_words_excluded': 'True',\n",
       " 'project_name': 'P7_Detecter_bad_buz',\n",
       " 'vectorization': 'Tf-idf',\n",
       " 'word_embedding': 'None'}>"
      ]
     },
     "execution_count": 4,
     "metadata": {},
     "output_type": "execute_result"
    }
   ],
   "source": [
    "all_experiments[0]"
   ]
  },
  {
   "cell_type": "markdown",
   "id": "70aa62dd",
   "metadata": {},
   "source": [
    "# Import des données"
   ]
  },
  {
   "cell_type": "code",
   "execution_count": 3,
   "id": "718cb276",
   "metadata": {
    "ExecuteTime": {
     "end_time": "2023-11-01T17:49:33.646949Z",
     "start_time": "2023-11-01T17:49:31.660086Z"
    }
   },
   "outputs": [
    {
     "data": {
      "text/html": [
       "<div>\n",
       "<style scoped>\n",
       "    .dataframe tbody tr th:only-of-type {\n",
       "        vertical-align: middle;\n",
       "    }\n",
       "\n",
       "    .dataframe tbody tr th {\n",
       "        vertical-align: top;\n",
       "    }\n",
       "\n",
       "    .dataframe thead th {\n",
       "        text-align: right;\n",
       "    }\n",
       "</style>\n",
       "<table border=\"1\" class=\"dataframe\">\n",
       "  <thead>\n",
       "    <tr style=\"text-align: right;\">\n",
       "      <th></th>\n",
       "      <th>target</th>\n",
       "      <th>ids</th>\n",
       "      <th>date</th>\n",
       "      <th>flag</th>\n",
       "      <th>user</th>\n",
       "      <th>text</th>\n",
       "    </tr>\n",
       "  </thead>\n",
       "  <tbody>\n",
       "    <tr>\n",
       "      <th>272912</th>\n",
       "      <td>0</td>\n",
       "      <td>1990296418</td>\n",
       "      <td>Mon Jun 01 04:28:22 PDT 2009</td>\n",
       "      <td>NO_QUERY</td>\n",
       "      <td>stotan88</td>\n",
       "      <td>@omgseriouslywtf no video?  try using RapidSha...</td>\n",
       "    </tr>\n",
       "    <tr>\n",
       "      <th>1538075</th>\n",
       "      <td>4</td>\n",
       "      <td>2179775832</td>\n",
       "      <td>Mon Jun 15 09:34:02 PDT 2009</td>\n",
       "      <td>NO_QUERY</td>\n",
       "      <td>mmh807</td>\n",
       "      <td>@KimberWitch Sorry to hear that! Feel better! ...</td>\n",
       "    </tr>\n",
       "    <tr>\n",
       "      <th>632239</th>\n",
       "      <td>0</td>\n",
       "      <td>2232608234</td>\n",
       "      <td>Thu Jun 18 20:08:38 PDT 2009</td>\n",
       "      <td>NO_QUERY</td>\n",
       "      <td>lola2022</td>\n",
       "      <td>@xoxo_steppie how do I pick a size for any of ...</td>\n",
       "    </tr>\n",
       "    <tr>\n",
       "      <th>979871</th>\n",
       "      <td>4</td>\n",
       "      <td>1833972446</td>\n",
       "      <td>Mon May 18 01:08:26 PDT 2009</td>\n",
       "      <td>NO_QUERY</td>\n",
       "      <td>Oli_li</td>\n",
       "      <td>is tired and has sore knees from over excessiv...</td>\n",
       "    </tr>\n",
       "    <tr>\n",
       "      <th>1050118</th>\n",
       "      <td>4</td>\n",
       "      <td>1960590356</td>\n",
       "      <td>Fri May 29 08:12:02 PDT 2009</td>\n",
       "      <td>NO_QUERY</td>\n",
       "      <td>chinagurl02</td>\n",
       "      <td>@gotgame23 lmao...no, but that just made me sm...</td>\n",
       "    </tr>\n",
       "  </tbody>\n",
       "</table>\n",
       "</div>"
      ],
      "text/plain": [
       "         target         ids                          date      flag  \\\n",
       "272912        0  1990296418  Mon Jun 01 04:28:22 PDT 2009  NO_QUERY   \n",
       "1538075       4  2179775832  Mon Jun 15 09:34:02 PDT 2009  NO_QUERY   \n",
       "632239        0  2232608234  Thu Jun 18 20:08:38 PDT 2009  NO_QUERY   \n",
       "979871        4  1833972446  Mon May 18 01:08:26 PDT 2009  NO_QUERY   \n",
       "1050118       4  1960590356  Fri May 29 08:12:02 PDT 2009  NO_QUERY   \n",
       "\n",
       "                user                                               text  \n",
       "272912      stotan88  @omgseriouslywtf no video?  try using RapidSha...  \n",
       "1538075       mmh807  @KimberWitch Sorry to hear that! Feel better! ...  \n",
       "632239      lola2022  @xoxo_steppie how do I pick a size for any of ...  \n",
       "979871        Oli_li  is tired and has sore knees from over excessiv...  \n",
       "1050118  chinagurl02  @gotgame23 lmao...no, but that just made me sm...  "
      ]
     },
     "execution_count": 3,
     "metadata": {},
     "output_type": "execute_result"
    }
   ],
   "source": [
    "DATASET_COLUMNS = [\"target\", \"ids\", \"date\", \"flag\", \"user\", \"text\"]\n",
    "df = pd.read_csv('./data/training.1600000.processed.noemoticon.csv', encoding='latin', header=None, names=DATASET_COLUMNS)\n",
    "df.sample(5, random_state=32)"
   ]
  },
  {
   "cell_type": "code",
   "execution_count": 4,
   "id": "3632da62",
   "metadata": {
    "ExecuteTime": {
     "end_time": "2023-11-01T17:49:33.653207Z",
     "start_time": "2023-11-01T17:49:33.649123Z"
    }
   },
   "outputs": [
    {
     "data": {
      "text/plain": [
       "target     int64\n",
       "ids        int64\n",
       "date      object\n",
       "flag      object\n",
       "user      object\n",
       "text      object\n",
       "dtype: object"
      ]
     },
     "execution_count": 4,
     "metadata": {},
     "output_type": "execute_result"
    }
   ],
   "source": [
    "df.dtypes"
   ]
  },
  {
   "cell_type": "code",
   "execution_count": 5,
   "id": "8d65507e",
   "metadata": {
    "ExecuteTime": {
     "end_time": "2023-11-01T17:49:33.726034Z",
     "start_time": "2023-11-01T17:49:33.654417Z"
    }
   },
   "outputs": [
    {
     "name": "stdout",
     "output_type": "stream",
     "text": [
      "new dataframe size:  75000.12 kB\n",
      "optimized size by 15.0 %\n",
      "new dataframe size:  64062.62  kB\n"
     ]
    },
    {
     "data": {
      "text/html": [
       "<div>\n",
       "<style scoped>\n",
       "    .dataframe tbody tr th:only-of-type {\n",
       "        vertical-align: middle;\n",
       "    }\n",
       "\n",
       "    .dataframe tbody tr th {\n",
       "        vertical-align: top;\n",
       "    }\n",
       "\n",
       "    .dataframe thead th {\n",
       "        text-align: right;\n",
       "    }\n",
       "</style>\n",
       "<table border=\"1\" class=\"dataframe\">\n",
       "  <thead>\n",
       "    <tr style=\"text-align: right;\">\n",
       "      <th></th>\n",
       "      <th>target</th>\n",
       "      <th>ids</th>\n",
       "      <th>date</th>\n",
       "      <th>flag</th>\n",
       "      <th>user</th>\n",
       "      <th>text</th>\n",
       "    </tr>\n",
       "  </thead>\n",
       "  <tbody>\n",
       "    <tr>\n",
       "      <th>0</th>\n",
       "      <td>0</td>\n",
       "      <td>1467810369</td>\n",
       "      <td>Mon Apr 06 22:19:45 PDT 2009</td>\n",
       "      <td>NO_QUERY</td>\n",
       "      <td>_TheSpecialOne_</td>\n",
       "      <td>@switchfoot http://twitpic.com/2y1zl - Awww, t...</td>\n",
       "    </tr>\n",
       "    <tr>\n",
       "      <th>1</th>\n",
       "      <td>0</td>\n",
       "      <td>1467810672</td>\n",
       "      <td>Mon Apr 06 22:19:49 PDT 2009</td>\n",
       "      <td>NO_QUERY</td>\n",
       "      <td>scotthamilton</td>\n",
       "      <td>is upset that he can't update his Facebook by ...</td>\n",
       "    </tr>\n",
       "    <tr>\n",
       "      <th>2</th>\n",
       "      <td>0</td>\n",
       "      <td>1467810917</td>\n",
       "      <td>Mon Apr 06 22:19:53 PDT 2009</td>\n",
       "      <td>NO_QUERY</td>\n",
       "      <td>mattycus</td>\n",
       "      <td>@Kenichan I dived many times for the ball. Man...</td>\n",
       "    </tr>\n",
       "    <tr>\n",
       "      <th>3</th>\n",
       "      <td>0</td>\n",
       "      <td>1467811184</td>\n",
       "      <td>Mon Apr 06 22:19:57 PDT 2009</td>\n",
       "      <td>NO_QUERY</td>\n",
       "      <td>ElleCTF</td>\n",
       "      <td>my whole body feels itchy and like its on fire</td>\n",
       "    </tr>\n",
       "    <tr>\n",
       "      <th>4</th>\n",
       "      <td>0</td>\n",
       "      <td>1467811193</td>\n",
       "      <td>Mon Apr 06 22:19:57 PDT 2009</td>\n",
       "      <td>NO_QUERY</td>\n",
       "      <td>Karoli</td>\n",
       "      <td>@nationwideclass no, it's not behaving at all....</td>\n",
       "    </tr>\n",
       "    <tr>\n",
       "      <th>...</th>\n",
       "      <td>...</td>\n",
       "      <td>...</td>\n",
       "      <td>...</td>\n",
       "      <td>...</td>\n",
       "      <td>...</td>\n",
       "      <td>...</td>\n",
       "    </tr>\n",
       "    <tr>\n",
       "      <th>1599995</th>\n",
       "      <td>4</td>\n",
       "      <td>2193601966</td>\n",
       "      <td>Tue Jun 16 08:40:49 PDT 2009</td>\n",
       "      <td>NO_QUERY</td>\n",
       "      <td>AmandaMarie1028</td>\n",
       "      <td>Just woke up. Having no school is the best fee...</td>\n",
       "    </tr>\n",
       "    <tr>\n",
       "      <th>1599996</th>\n",
       "      <td>4</td>\n",
       "      <td>2193601969</td>\n",
       "      <td>Tue Jun 16 08:40:49 PDT 2009</td>\n",
       "      <td>NO_QUERY</td>\n",
       "      <td>TheWDBoards</td>\n",
       "      <td>TheWDB.com - Very cool to hear old Walt interv...</td>\n",
       "    </tr>\n",
       "    <tr>\n",
       "      <th>1599997</th>\n",
       "      <td>4</td>\n",
       "      <td>2193601991</td>\n",
       "      <td>Tue Jun 16 08:40:49 PDT 2009</td>\n",
       "      <td>NO_QUERY</td>\n",
       "      <td>bpbabe</td>\n",
       "      <td>Are you ready for your MoJo Makeover? Ask me f...</td>\n",
       "    </tr>\n",
       "    <tr>\n",
       "      <th>1599998</th>\n",
       "      <td>4</td>\n",
       "      <td>2193602064</td>\n",
       "      <td>Tue Jun 16 08:40:49 PDT 2009</td>\n",
       "      <td>NO_QUERY</td>\n",
       "      <td>tinydiamondz</td>\n",
       "      <td>Happy 38th Birthday to my boo of alll time!!! ...</td>\n",
       "    </tr>\n",
       "    <tr>\n",
       "      <th>1599999</th>\n",
       "      <td>4</td>\n",
       "      <td>2193602129</td>\n",
       "      <td>Tue Jun 16 08:40:50 PDT 2009</td>\n",
       "      <td>NO_QUERY</td>\n",
       "      <td>RyanTrevMorris</td>\n",
       "      <td>happy #charitytuesday @theNSPCC @SparksCharity...</td>\n",
       "    </tr>\n",
       "  </tbody>\n",
       "</table>\n",
       "<p>1600000 rows × 6 columns</p>\n",
       "</div>"
      ],
      "text/plain": [
       "         target         ids                          date      flag  \\\n",
       "0             0  1467810369  Mon Apr 06 22:19:45 PDT 2009  NO_QUERY   \n",
       "1             0  1467810672  Mon Apr 06 22:19:49 PDT 2009  NO_QUERY   \n",
       "2             0  1467810917  Mon Apr 06 22:19:53 PDT 2009  NO_QUERY   \n",
       "3             0  1467811184  Mon Apr 06 22:19:57 PDT 2009  NO_QUERY   \n",
       "4             0  1467811193  Mon Apr 06 22:19:57 PDT 2009  NO_QUERY   \n",
       "...         ...         ...                           ...       ...   \n",
       "1599995       4  2193601966  Tue Jun 16 08:40:49 PDT 2009  NO_QUERY   \n",
       "1599996       4  2193601969  Tue Jun 16 08:40:49 PDT 2009  NO_QUERY   \n",
       "1599997       4  2193601991  Tue Jun 16 08:40:49 PDT 2009  NO_QUERY   \n",
       "1599998       4  2193602064  Tue Jun 16 08:40:49 PDT 2009  NO_QUERY   \n",
       "1599999       4  2193602129  Tue Jun 16 08:40:50 PDT 2009  NO_QUERY   \n",
       "\n",
       "                    user                                               text  \n",
       "0        _TheSpecialOne_  @switchfoot http://twitpic.com/2y1zl - Awww, t...  \n",
       "1          scotthamilton  is upset that he can't update his Facebook by ...  \n",
       "2               mattycus  @Kenichan I dived many times for the ball. Man...  \n",
       "3                ElleCTF    my whole body feels itchy and like its on fire   \n",
       "4                 Karoli  @nationwideclass no, it's not behaving at all....  \n",
       "...                  ...                                                ...  \n",
       "1599995  AmandaMarie1028  Just woke up. Having no school is the best fee...  \n",
       "1599996      TheWDBoards  TheWDB.com - Very cool to hear old Walt interv...  \n",
       "1599997           bpbabe  Are you ready for your MoJo Makeover? Ask me f...  \n",
       "1599998     tinydiamondz  Happy 38th Birthday to my boo of alll time!!! ...  \n",
       "1599999   RyanTrevMorris  happy #charitytuesday @theNSPCC @SparksCharity...  \n",
       "\n",
       "[1600000 rows x 6 columns]"
      ]
     },
     "execution_count": 5,
     "metadata": {},
     "output_type": "execute_result"
    }
   ],
   "source": [
    "compress(df)"
   ]
  },
  {
   "cell_type": "code",
   "execution_count": 6,
   "id": "73d5ab41",
   "metadata": {
    "ExecuteTime": {
     "end_time": "2023-11-01T17:49:33.731690Z",
     "start_time": "2023-11-01T17:49:33.727795Z"
    }
   },
   "outputs": [
    {
     "data": {
      "text/plain": [
       "target      int8\n",
       "ids        int64\n",
       "date      object\n",
       "flag      object\n",
       "user      object\n",
       "text      object\n",
       "dtype: object"
      ]
     },
     "execution_count": 6,
     "metadata": {},
     "output_type": "execute_result"
    }
   ],
   "source": [
    "df.dtypes"
   ]
  },
  {
   "cell_type": "markdown",
   "id": "481eaccf",
   "metadata": {},
   "source": [
    "# EDA"
   ]
  },
  {
   "cell_type": "markdown",
   "id": "aaeebb97",
   "metadata": {},
   "source": [
    "## Variable cible (`target`)"
   ]
  },
  {
   "cell_type": "markdown",
   "id": "c671165e",
   "metadata": {},
   "source": [
    "D'après le dictionnaire de données la cible contient trois catégories:\n",
    "- 0: Négatif\n",
    "- 2: Neutre\n",
    "- 4: Positif"
   ]
  },
  {
   "cell_type": "code",
   "execution_count": 7,
   "id": "eb6241ee",
   "metadata": {
    "ExecuteTime": {
     "end_time": "2023-11-01T17:49:33.870179Z",
     "start_time": "2023-11-01T17:49:33.732837Z"
    },
    "scrolled": false
   },
   "outputs": [
    {
     "data": {
      "image/png": "[encoded data removed]",
      "text/plain": [
       "<Figure size 640x480 with 1 Axes>"
      ]
     },
     "metadata": {},
     "output_type": "display_data"
    }
   ],
   "source": [
    "sns.histplot(data=df, x='target',binwidth = 1.5, )\n",
    "plt.xticks([0,4])\n",
    "plt.title('Répartition des targets')\n",
    "plt.xticks(ticks=[0,4], labels=[\"0-Négatif\", \"4-Positif\"]);"
   ]
  },
  {
   "cell_type": "markdown",
   "id": "dce856df",
   "metadata": {
    "heading_collapsed": true
   },
   "source": [
    "## `flag`\n",
    "\n",
    "La colonne flag contient une seule valeur, elle peut donc être supprimée."
   ]
  },
  {
   "cell_type": "code",
   "execution_count": 8,
   "id": "2c10ed69",
   "metadata": {
    "ExecuteTime": {
     "end_time": "2023-11-01T17:49:33.907538Z",
     "start_time": "2023-11-01T17:49:33.871400Z"
    },
    "hidden": true
   },
   "outputs": [
    {
     "data": {
      "text/plain": [
       "array(['NO_QUERY'], dtype=object)"
      ]
     },
     "execution_count": 8,
     "metadata": {},
     "output_type": "execute_result"
    }
   ],
   "source": [
    "df.flag.unique()"
   ]
  },
  {
   "cell_type": "code",
   "execution_count": 9,
   "id": "62f24918",
   "metadata": {
    "ExecuteTime": {
     "end_time": "2023-11-01T17:49:33.984395Z",
     "start_time": "2023-11-01T17:49:33.909711Z"
    },
    "hidden": true
   },
   "outputs": [],
   "source": [
    "df.drop('flag', axis=1, inplace=True)"
   ]
  },
  {
   "cell_type": "markdown",
   "id": "a2534d58",
   "metadata": {},
   "source": [
    "## `ids`"
   ]
  },
  {
   "cell_type": "markdown",
   "id": "a36b5999",
   "metadata": {},
   "source": [
    "La colonne `ids` contient l'identifiant du message.\n",
    "\n",
    "On note que l'on a moins d'identifiants unique que de messages, on peut donc penser que l'on a des doublons."
   ]
  },
  {
   "cell_type": "code",
   "execution_count": 10,
   "id": "e2c5e7c7",
   "metadata": {
    "ExecuteTime": {
     "end_time": "2023-11-01T17:49:34.049756Z",
     "start_time": "2023-11-01T17:49:33.987967Z"
    }
   },
   "outputs": [
    {
     "data": {
      "text/plain": [
       "1598315"
      ]
     },
     "execution_count": 10,
     "metadata": {},
     "output_type": "execute_result"
    }
   ],
   "source": [
    "df.ids.nunique()"
   ]
  },
  {
   "cell_type": "code",
   "execution_count": 11,
   "id": "7b1fd22f",
   "metadata": {
    "ExecuteTime": {
     "end_time": "2023-11-01T17:49:34.126013Z",
     "start_time": "2023-11-01T17:49:34.051158Z"
    }
   },
   "outputs": [
    {
     "data": {
      "text/html": [
       "<div>\n",
       "<style scoped>\n",
       "    .dataframe tbody tr th:only-of-type {\n",
       "        vertical-align: middle;\n",
       "    }\n",
       "\n",
       "    .dataframe tbody tr th {\n",
       "        vertical-align: top;\n",
       "    }\n",
       "\n",
       "    .dataframe thead th {\n",
       "        text-align: right;\n",
       "    }\n",
       "</style>\n",
       "<table border=\"1\" class=\"dataframe\">\n",
       "  <thead>\n",
       "    <tr style=\"text-align: right;\">\n",
       "      <th></th>\n",
       "      <th>target</th>\n",
       "      <th>ids</th>\n",
       "      <th>date</th>\n",
       "      <th>user</th>\n",
       "      <th>text</th>\n",
       "    </tr>\n",
       "  </thead>\n",
       "  <tbody>\n",
       "    <tr>\n",
       "      <th>213</th>\n",
       "      <td>0</td>\n",
       "      <td>1467863684</td>\n",
       "      <td>Mon Apr 06 22:33:35 PDT 2009</td>\n",
       "      <td>DjGundam</td>\n",
       "      <td>Awwh babs... you look so sad underneith that s...</td>\n",
       "    </tr>\n",
       "    <tr>\n",
       "      <th>800261</th>\n",
       "      <td>4</td>\n",
       "      <td>1467863684</td>\n",
       "      <td>Mon Apr 06 22:33:35 PDT 2009</td>\n",
       "      <td>DjGundam</td>\n",
       "      <td>Awwh babs... you look so sad underneith that s...</td>\n",
       "    </tr>\n",
       "    <tr>\n",
       "      <th>275</th>\n",
       "      <td>0</td>\n",
       "      <td>1467880442</td>\n",
       "      <td>Mon Apr 06 22:38:04 PDT 2009</td>\n",
       "      <td>iCalvin</td>\n",
       "      <td>Haven't tweeted nearly all day  Posted my webs...</td>\n",
       "    </tr>\n",
       "    <tr>\n",
       "      <th>800300</th>\n",
       "      <td>4</td>\n",
       "      <td>1467880442</td>\n",
       "      <td>Mon Apr 06 22:38:04 PDT 2009</td>\n",
       "      <td>iCalvin</td>\n",
       "      <td>Haven't tweeted nearly all day  Posted my webs...</td>\n",
       "    </tr>\n",
       "    <tr>\n",
       "      <th>989</th>\n",
       "      <td>0</td>\n",
       "      <td>1468053611</td>\n",
       "      <td>Mon Apr 06 23:28:09 PDT 2009</td>\n",
       "      <td>mariejamora</td>\n",
       "      <td>@hellobebe I also send some updates in plurk b...</td>\n",
       "    </tr>\n",
       "    <tr>\n",
       "      <th>...</th>\n",
       "      <td>...</td>\n",
       "      <td>...</td>\n",
       "      <td>...</td>\n",
       "      <td>...</td>\n",
       "      <td>...</td>\n",
       "    </tr>\n",
       "    <tr>\n",
       "      <th>524290</th>\n",
       "      <td>0</td>\n",
       "      <td>2193428118</td>\n",
       "      <td>Tue Jun 16 08:26:44 PDT 2009</td>\n",
       "      <td>bubbles00</td>\n",
       "      <td>finally finished typing!!!! Woohoooo  , still ...</td>\n",
       "    </tr>\n",
       "    <tr>\n",
       "      <th>1599440</th>\n",
       "      <td>4</td>\n",
       "      <td>2193451289</td>\n",
       "      <td>Tue Jun 16 08:28:37 PDT 2009</td>\n",
       "      <td>faiznurdavid</td>\n",
       "      <td>@fanafatin see, @misschimichanga tweet u to jo...</td>\n",
       "    </tr>\n",
       "    <tr>\n",
       "      <th>524345</th>\n",
       "      <td>0</td>\n",
       "      <td>2193451289</td>\n",
       "      <td>Tue Jun 16 08:28:37 PDT 2009</td>\n",
       "      <td>faiznurdavid</td>\n",
       "      <td>@fanafatin see, @misschimichanga tweet u to jo...</td>\n",
       "    </tr>\n",
       "    <tr>\n",
       "      <th>524688</th>\n",
       "      <td>0</td>\n",
       "      <td>2193576442</td>\n",
       "      <td>Tue Jun 16 08:38:45 PDT 2009</td>\n",
       "      <td>emma_b_xox</td>\n",
       "      <td>Had an injection today. Not fun  the rrst of t...</td>\n",
       "    </tr>\n",
       "    <tr>\n",
       "      <th>1599931</th>\n",
       "      <td>4</td>\n",
       "      <td>2193576442</td>\n",
       "      <td>Tue Jun 16 08:38:45 PDT 2009</td>\n",
       "      <td>emma_b_xox</td>\n",
       "      <td>Had an injection today. Not fun  the rrst of t...</td>\n",
       "    </tr>\n",
       "  </tbody>\n",
       "</table>\n",
       "<p>3370 rows × 5 columns</p>\n",
       "</div>"
      ],
      "text/plain": [
       "         target         ids                          date          user  \\\n",
       "213           0  1467863684  Mon Apr 06 22:33:35 PDT 2009      DjGundam   \n",
       "800261        4  1467863684  Mon Apr 06 22:33:35 PDT 2009      DjGundam   \n",
       "275           0  1467880442  Mon Apr 06 22:38:04 PDT 2009       iCalvin   \n",
       "800300        4  1467880442  Mon Apr 06 22:38:04 PDT 2009       iCalvin   \n",
       "989           0  1468053611  Mon Apr 06 23:28:09 PDT 2009   mariejamora   \n",
       "...         ...         ...                           ...           ...   \n",
       "524290        0  2193428118  Tue Jun 16 08:26:44 PDT 2009     bubbles00   \n",
       "1599440       4  2193451289  Tue Jun 16 08:28:37 PDT 2009  faiznurdavid   \n",
       "524345        0  2193451289  Tue Jun 16 08:28:37 PDT 2009  faiznurdavid   \n",
       "524688        0  2193576442  Tue Jun 16 08:38:45 PDT 2009    emma_b_xox   \n",
       "1599931       4  2193576442  Tue Jun 16 08:38:45 PDT 2009    emma_b_xox   \n",
       "\n",
       "                                                      text  \n",
       "213      Awwh babs... you look so sad underneith that s...  \n",
       "800261   Awwh babs... you look so sad underneith that s...  \n",
       "275      Haven't tweeted nearly all day  Posted my webs...  \n",
       "800300   Haven't tweeted nearly all day  Posted my webs...  \n",
       "989      @hellobebe I also send some updates in plurk b...  \n",
       "...                                                    ...  \n",
       "524290   finally finished typing!!!! Woohoooo  , still ...  \n",
       "1599440  @fanafatin see, @misschimichanga tweet u to jo...  \n",
       "524345   @fanafatin see, @misschimichanga tweet u to jo...  \n",
       "524688   Had an injection today. Not fun  the rrst of t...  \n",
       "1599931  Had an injection today. Not fun  the rrst of t...  \n",
       "\n",
       "[3370 rows x 5 columns]"
      ]
     },
     "execution_count": 11,
     "metadata": {},
     "output_type": "execute_result"
    }
   ],
   "source": [
    "df[df.ids.duplicated(keep=False)].sort_values(by='ids')"
   ]
  },
  {
   "cell_type": "markdown",
   "id": "7ffdb9e1",
   "metadata": {},
   "source": [
    "On constate ici que les doublons correspondent à des messages classés à la fois en négatif et en positif.\n",
    "\n",
    "Pour éviter d'envoyer des données potentiellement mal classifiées au modèle on supprimera totalement ces messages et pas uniquement un seul des deux enregistrements (cela est aussi permis par leur faible nombre)."
   ]
  },
  {
   "cell_type": "code",
   "execution_count": 12,
   "id": "7dae6266",
   "metadata": {
    "ExecuteTime": {
     "end_time": "2023-11-01T17:49:34.308145Z",
     "start_time": "2023-11-01T17:49:34.127333Z"
    }
   },
   "outputs": [
    {
     "name": "stdout",
     "output_type": "stream",
     "text": [
      "Nouveau nombre de message disponibles :1596630 (3370 de moins)\n"
     ]
    }
   ],
   "source": [
    "shape_base = df.shape[0]\n",
    "df = df[~df.ids.duplicated(keep=False)].reset_index(drop=True)\n",
    "print(f\"Nouveau nombre de message disponibles :{df.shape[0]} ({shape_base - df.shape[0]} de moins)\")\n",
    "del shape_base"
   ]
  },
  {
   "cell_type": "markdown",
   "id": "c4bab3fd",
   "metadata": {
    "heading_collapsed": true
   },
   "source": [
    "## `user` et `date`"
   ]
  },
  {
   "cell_type": "markdown",
   "id": "8ef58d53",
   "metadata": {
    "hidden": true
   },
   "source": [
    "Les colonnes user présentent peu d'intérêt pour de la classification de sentiments, on va donc les supprimer."
   ]
  },
  {
   "cell_type": "code",
   "execution_count": 13,
   "id": "837f2489",
   "metadata": {
    "ExecuteTime": {
     "end_time": "2023-11-01T17:49:34.351432Z",
     "start_time": "2023-11-01T17:49:34.309543Z"
    },
    "hidden": true
   },
   "outputs": [],
   "source": [
    "df.drop(['user', 'date'], axis=1, inplace=True)"
   ]
  },
  {
   "cell_type": "markdown",
   "id": "01e0d6f5",
   "metadata": {},
   "source": [
    "# Preprocessing `text`"
   ]
  },
  {
   "cell_type": "markdown",
   "id": "7b6d2657",
   "metadata": {},
   "source": [
    "On va nettoyer les commentaires en enlevant les noms d'utilisateurs, les url et les balises html.<br><br>\n",
    "On aura ensuite le choix d'enlever ou non les stop words (petits mots de liaisons type pronom ou conjonction de coordination).<br>\n",
    "On laisse ce choix afin de tester des modalités de textes n'étant pas nettoyés de mots $\"not\"$ qui peuvent avoir un poids important pour de la détection de sentiment?\n",
    "\n",
    "Enfin on aura deux solutions de normalisation des mots qui ont toutes les deux pour but de regrouper les mots similaires (`['played', 'playing', 'plays'] == 'play'`) vers un élément commun:\n",
    "- le stemming qui ramène les mots à leur radical (`['chocolatey', 'chocolate', 'chocolates'] == 'choco'`)\n",
    "- le lemmatizing qui renvoie un mot racine commun à différents termes selon leur contexte et sur la base d'un dictionnaire(`['am', 'are', 'is', 'being'] == 'be'`)\n",
    "\n",
    "<details>\n",
    "    <summary>Détail de la regex :</summary> \n",
    "    <ul>\n",
    "        <li><code>@\\S+</code> enlève les usernames dans le texte</li>\n",
    "        <li><code>https\\S+|http\\S+</code> enlève les url</li>\n",
    "        <li><code>[^A-Za-z0-9]+</code> enlève tous les caractères spéciaux</li>\n",
    "    </ul>\n",
    "</details>\n"
   ]
  },
  {
   "cell_type": "code",
   "execution_count": 14,
   "id": "f454b059",
   "metadata": {
    "ExecuteTime": {
     "end_time": "2023-11-01T17:49:34.360477Z",
     "start_time": "2023-11-01T17:49:34.352943Z"
    }
   },
   "outputs": [],
   "source": [
    "# Regex de nettoyage\n",
    "# TEXT_CLEANING_RE = '@\\S+|https\\S+|http\\S+|&.*;|\\d+|[^a-zA-Z]'\n",
    "TEXT_CLEANING_RE = '@\\S+|https?:\\S+|http?:\\S|[^A-Za-z0-9]+'\n",
    "# Dict des stop words\n",
    "stop_words = stopwords.words(\"english\")\n",
    "# Stemmer\n",
    "stemmer = SnowballStemmer(\"english\")\n",
    "\n",
    "def cleaning_text_stem(text, exclude_stop_words=True):\n",
    " \n",
    "    text = re.sub(TEXT_CLEANING_RE, ' ', str(text).lower()).strip()\n",
    " \n",
    "    tokens = []\n",
    "    if exclude_stop_words:\n",
    "        for token in text.split():\n",
    "            if token not in stop_words:\n",
    "                tokens.append(stemmer.stem(token)) \n",
    "    else:\n",
    "        for token in text.split():\n",
    "            tokens.append(stemmer.stem(token))     \n",
    "                \n",
    "    return tokens\n",
    "\n",
    "\n",
    "def cleaning_text_lemma(text, exclude_stop_words=True, pos='v'):\n",
    " \n",
    "    text = re.sub(TEXT_CLEANING_RE, ' ', str(text).lower()).strip()\n",
    " \n",
    "    if exclude_stop_words:\n",
    "        tokens = [token for token in text.split() if token not in stop_words]\n",
    "    else:\n",
    "        tokens = [token for token in text.split()]\n",
    "    \n",
    "    if pos in ['v', 'n']:\n",
    "            tokens = [WordNetLemmatizer().lemmatize(token, pos = pos)for token in tokens]\n",
    "    else:\n",
    "        raise AttributeError(f'Le param `pos` ne peut pas prendre la valeur {pos}, uniquement `v` ou `n`.')\n",
    "            \n",
    "                \n",
    "    return tokens\n"
   ]
  },
  {
   "cell_type": "code",
   "execution_count": 15,
   "id": "33c75359",
   "metadata": {
    "ExecuteTime": {
     "end_time": "2023-11-01T17:49:35.319304Z",
     "start_time": "2023-11-01T17:49:34.361654Z"
    }
   },
   "outputs": [
    {
     "name": "stdout",
     "output_type": "stream",
     "text": [
      "@metal51 Oh, sorry ong Vu,nhin vo Twitter toan chu la chu, hong de y ong nhan.Sorry:&gt;.Hoc cung binh thuong thoi ah,hong muon noi la ngan \n",
      "lemmatizing (pos==nom) : ['oh', 'sorry', 'ong', 'vu', 'nhin', 'vo', 'twitter', 'toan', 'chu', 'la', 'chu', 'hong', 'de', 'ong', 'nhan', 'sorry', 'gt', 'hoc', 'cung', 'binh', 'thuong', 'thoi', 'ah', 'hong', 'muon', 'noi', 'la', 'ngan']\n",
      "lemmatizing (pos==verb) : ['oh', 'sorry', 'ong', 'vu', 'nhin', 'vo', 'twitter', 'toan', 'chu', 'la', 'chu', 'hong', 'de', 'ong', 'nhan', 'sorry', 'gt', 'hoc', 'cung', 'binh', 'thuong', 'thoi', 'ah', 'hong', 'muon', 'noi', 'la', 'ngan']\n",
      "stemming : ['oh', 'sorri', 'ong', 'vu', 'nhin', 'vo', 'twitter', 'toan', 'chu', 'la', 'chu', 'hong', 'de', 'ong', 'nhan', 'sorri', 'gt', 'hoc', 'cung', 'binh', 'thuong', 'thoi', 'ah', 'hong', 'muon', 'noi', 'la', 'ngan']\n"
     ]
    }
   ],
   "source": [
    "print(df.iloc[237821].text)\n",
    "print('lemmatizing (pos==nom) :',cleaning_text_lemma(df.iloc[237821].text, pos='n'))\n",
    "print('lemmatizing (pos==verb) :',cleaning_text_lemma(df.iloc[237821].text, pos='v'))\n",
    "print('stemming :',cleaning_text_stem(df.iloc[237821].text))"
   ]
  },
  {
   "cell_type": "code",
   "execution_count": 16,
   "id": "32a666fe",
   "metadata": {
    "ExecuteTime": {
     "end_time": "2023-11-01T17:49:35.324363Z",
     "start_time": "2023-11-01T17:49:35.320770Z"
    }
   },
   "outputs": [
    {
     "name": "stdout",
     "output_type": "stream",
     "text": [
      "@neospace à¹à¸£à¸·à¹à¸­à¸à¸à¸±à¹à¸à¸à¸£à¸£à¸à¹à¸à¸£à¸² à¹à¸«à¹à¸à¸à¹à¸§à¸¢à¸à¸µà¹à¹à¸¡à¹à¸à¹à¸­à¸à¹à¸à¸à¸±à¹à¸à¹à¹à¸¥à¹à¸à¸?à¸²à¸£à¹à¸¡à¸·à¸­à¸ &quot;à¸à¹à¸²à¸à¸à¸à¸&quot; à¸?à¸±à¸à¸­à¸µà¸? à¹?à¸à¹à¸à¸µà¹à¸¡à¸²à¸à¸µà¹à¹à¸à¹à¸«à¹à¸à¹?à¸¥à¹à¸§ à¸à¸±à¸à¸à¸²à¸¡à¸²à¸? à¸à¸£à¸£à¸à¹à¸à¸µà¸¢à¸§ Green Party \n",
      "lemmatizing (pos==nom) : ['quot', 'quot', 'green', 'party']\n",
      "lemmatizing (pos==verb) : ['quot', 'quot', 'green', 'party']\n",
      "stemming : ['quot', 'quot', 'green', 'parti']\n"
     ]
    }
   ],
   "source": [
    "print(df.iloc[379332].text)\n",
    "print('lemmatizing (pos==nom) :',cleaning_text_lemma(df.iloc[379332].text, pos='n'))\n",
    "print('lemmatizing (pos==verb) :',cleaning_text_lemma(df.iloc[379332].text, pos='v'))\n",
    "print('stemming :',cleaning_text_stem(df.iloc[379332].text))"
   ]
  },
  {
   "cell_type": "code",
   "execution_count": 17,
   "id": "7f82e960",
   "metadata": {
    "ExecuteTime": {
     "end_time": "2023-11-01T17:49:35.329045Z",
     "start_time": "2023-11-01T17:49:35.325337Z"
    }
   },
   "outputs": [
    {
     "name": "stdout",
     "output_type": "stream",
     "text": [
      "@LadyLucius LOL- I do not have AT&amp;T so NO I-Phone for me!    Believe me I am a total Mac/Apple Whore! I was in the Apple Store today!\n",
      "lemmatizing (pos==nom) : ['lol', 'amp', 'phone', 'believe', 'total', 'mac', 'apple', 'whore', 'apple', 'store', 'today']\n",
      "lemmatizing (pos==verb) : ['lol', 'amp', 'phone', 'believe', 'total', 'mac', 'apple', 'whore', 'apple', 'store', 'today']\n",
      "stemming : ['lol', 'amp', 'phone', 'believ', 'total', 'mac', 'appl', 'whore', 'appl', 'store', 'today']\n"
     ]
    }
   ],
   "source": [
    "print(df.iloc[225535].text)\n",
    "print('lemmatizing (pos==nom) :',cleaning_text_lemma(df.iloc[225535].text, pos='n'))\n",
    "print('lemmatizing (pos==verb) :',cleaning_text_lemma(df.iloc[225535].text, pos='v'))\n",
    "print('stemming :',cleaning_text_stem(df.iloc[225535].text))"
   ]
  },
  {
   "cell_type": "code",
   "execution_count": 18,
   "id": "2e7112af",
   "metadata": {
    "ExecuteTime": {
     "end_time": "2023-11-01T17:49:35.334242Z",
     "start_time": "2023-11-01T17:49:35.329975Z"
    }
   },
   "outputs": [
    {
     "name": "stdout",
     "output_type": "stream",
     "text": [
      "@cupcakemafia wull I hate to hear 'bout an awesome chickie playing hood ornament  You doing ok?\n",
      "lemmatizing (pos==nom) : ['wull', 'hate', 'hear', 'bout', 'awesome', 'chickie', 'playing', 'hood', 'ornament', 'ok']\n",
      "lemmatizing (pos==verb) : ['wull', 'hate', 'hear', 'bout', 'awesome', 'chickie', 'play', 'hood', 'ornament', 'ok']\n",
      "stemming : ['wull', 'hate', 'hear', 'bout', 'awesom', 'chicki', 'play', 'hood', 'ornament', 'ok']\n"
     ]
    }
   ],
   "source": [
    "print(df.iloc[650400].text)\n",
    "print('lemmatizing (pos==nom) :',cleaning_text_lemma(df.iloc[650400].text, pos='n'))\n",
    "print('lemmatizing (pos==verb) :',cleaning_text_lemma(df.iloc[650400].text, pos='v'))\n",
    "print('stemming :',cleaning_text_stem(df.iloc[650400].text))"
   ]
  },
  {
   "cell_type": "code",
   "execution_count": 19,
   "id": "7936f660",
   "metadata": {
    "ExecuteTime": {
     "end_time": "2023-11-01T17:49:35.339400Z",
     "start_time": "2023-11-01T17:49:35.335527Z"
    }
   },
   "outputs": [
    {
     "name": "stdout",
     "output_type": "stream",
     "text": [
      "My Bestest Friend= Xeniesha :]  Nicole left!! She official left to Chicago!! So Sad!! \n",
      "lemmatizing (pos==nom) : ['bestest', 'friend', 'xeniesha', 'nicole', 'left', 'official', 'left', 'chicago', 'sad']\n",
      "lemmatizing (pos==verb) : ['bestest', 'friend', 'xeniesha', 'nicole', 'leave', 'official', 'leave', 'chicago', 'sad']\n",
      "stemming : ['bestest', 'friend', 'xeniesha', 'nicol', 'left', 'offici', 'left', 'chicago', 'sad']\n"
     ]
    }
   ],
   "source": [
    "print(df.iloc[621692].text)\n",
    "print('lemmatizing (pos==nom) :',cleaning_text_lemma(df.iloc[621692].text, pos='n'))\n",
    "print('lemmatizing (pos==verb) :',cleaning_text_lemma(df.iloc[621692].text, pos='v'))\n",
    "print('stemming :',cleaning_text_stem(df.iloc[621692].text))"
   ]
  },
  {
   "cell_type": "code",
   "execution_count": 20,
   "id": "e1b951a5",
   "metadata": {
    "ExecuteTime": {
     "end_time": "2023-11-01T17:49:35.345112Z",
     "start_time": "2023-11-01T17:49:35.341515Z"
    }
   },
   "outputs": [
    {
     "name": "stdout",
     "output_type": "stream",
     "text": [
      "Very thankful for Nikon's CLS system today.  1/1250s with full flash capabilities is simply awesome \n",
      "lemmatizing (pos==nom) : ['thankful', 'nikon', 'cl', 'system', 'today', '1', '1250s', 'full', 'flash', 'capability', 'simply', 'awesome']\n",
      "lemmatizing (pos==verb) : ['thankful', 'nikon', 'cls', 'system', 'today', '1', '1250s', 'full', 'flash', 'capabilities', 'simply', 'awesome']\n",
      "stemming : ['thank', 'nikon', 'cls', 'system', 'today', '1', '1250s', 'full', 'flash', 'capabl', 'simpli', 'awesom']\n"
     ]
    }
   ],
   "source": [
    "print(df.iloc[1125888].text)\n",
    "print('lemmatizing (pos==nom) :',cleaning_text_lemma(df.iloc[1125888].text, pos='n'))\n",
    "print('lemmatizing (pos==verb) :',cleaning_text_lemma(df.iloc[1125888].text, pos='v'))\n",
    "print('stemming :',cleaning_text_stem(df.iloc[1125888].text))"
   ]
  },
  {
   "cell_type": "code",
   "execution_count": 21,
   "id": "3c72b78f",
   "metadata": {
    "ExecuteTime": {
     "end_time": "2023-11-01T17:49:35.350324Z",
     "start_time": "2023-11-01T17:49:35.346260Z"
    }
   },
   "outputs": [
    {
     "name": "stdout",
     "output_type": "stream",
     "text": [
      "Meet Cactuar - my mini cactus friend.  http://twitgoo.com/muj7\n",
      "lemmatizing (pos==nom) : ['meet', 'cactuar', 'mini', 'cactus', 'friend']\n",
      "lemmatizing (pos==verb) : ['meet', 'cactuar', 'mini', 'cactus', 'friend']\n",
      "stemming : ['meet', 'cactuar', 'mini', 'cactus', 'friend']\n"
     ]
    }
   ],
   "source": [
    "print(df.iloc[1313450].text)\n",
    "print('lemmatizing (pos==nom) :',cleaning_text_lemma(df.iloc[1313450].text, pos='n'))\n",
    "print('lemmatizing (pos==verb) :',cleaning_text_lemma(df.iloc[1313450].text, pos='v'))\n",
    "print('stemming :',cleaning_text_stem(df.iloc[1313450].text))"
   ]
  },
  {
   "cell_type": "code",
   "execution_count": 22,
   "id": "2202da70",
   "metadata": {
    "ExecuteTime": {
     "end_time": "2023-11-01T17:49:35.356244Z",
     "start_time": "2023-11-01T17:49:35.351995Z"
    },
    "scrolled": true
   },
   "outputs": [
    {
     "name": "stdout",
     "output_type": "stream",
     "text": [
      "A book that hadn't been opened for 100 years? Totally would gotten weeded from our branch. \n",
      "lemmatizing (pos==nom) : ['book', 'opened', '100', 'year', 'totally', 'would', 'gotten', 'weeded', 'branch']\n",
      "lemmatizing (pos==verb) : ['book', 'open', '100', 'years', 'totally', 'would', 'get', 'weed', 'branch']\n",
      "stemming : ['book', 'open', '100', 'year', 'total', 'would', 'gotten', 'weed', 'branch']\n"
     ]
    }
   ],
   "source": [
    "print(df.iloc[186683].text)\n",
    "print('lemmatizing (pos==nom) :',cleaning_text_lemma(df.iloc[186683].text, pos='n'))\n",
    "print('lemmatizing (pos==verb) :',cleaning_text_lemma(df.iloc[186683].text, pos='v'))\n",
    "print('stemming :',cleaning_text_stem(df.iloc[186683].text))"
   ]
  },
  {
   "cell_type": "code",
   "execution_count": 23,
   "id": "23033676",
   "metadata": {
    "ExecuteTime": {
     "end_time": "2023-11-01T17:50:25.235802Z",
     "start_time": "2023-11-01T17:49:35.357163Z"
    }
   },
   "outputs": [
    {
     "data": {
      "application/vnd.jupyter.widget-view+json": {
       "model_id": "6adb9e896d4647529bc2fed0d1fc5058",
       "version_major": 2,
       "version_minor": 0
      },
      "text/plain": [
       "CLEANING_TEXT_STEM DONE:   0%|          | 0/1596630 [00:00<?, ?it/s]"
      ]
     },
     "metadata": {},
     "output_type": "display_data"
    },
    {
     "data": {
      "application/vnd.jupyter.widget-view+json": {
       "model_id": "a199e8c4f0584f2cbbd2b16feb558579",
       "version_major": 2,
       "version_minor": 0
      },
      "text/plain": [
       "VMEM USAGE: 41.0%|####1     |  15.2G"
      ]
     },
     "metadata": {},
     "output_type": "display_data"
    },
    {
     "data": {
      "application/vnd.jupyter.widget-view+json": {
       "model_id": "ef1a415525b04768b80df6c4bcc6f7af",
       "version_major": 2,
       "version_minor": 0
      },
      "text/plain": [
       "CLEANING_TEXT_LEMMA DONE:   0%|          | 0/1596630 [00:00<?, ?it/s]"
      ]
     },
     "metadata": {},
     "output_type": "display_data"
    },
    {
     "data": {
      "application/vnd.jupyter.widget-view+json": {
       "model_id": "e5976b701ad14a07be490e61bfcaca72",
       "version_major": 2,
       "version_minor": 0
      },
      "text/plain": [
       "VMEM USAGE: 46.4%|####6     |  15.2G"
      ]
     },
     "metadata": {},
     "output_type": "display_data"
    },
    {
     "data": {
      "application/vnd.jupyter.widget-view+json": {
       "model_id": "031dcae638494505af9c651e21c60671",
       "version_major": 2,
       "version_minor": 0
      },
      "text/plain": [
       "CLEANING_TEXT_LEMMA DONE:   0%|          | 0/1596630 [00:00<?, ?it/s]"
      ]
     },
     "metadata": {},
     "output_type": "display_data"
    },
    {
     "data": {
      "application/vnd.jupyter.widget-view+json": {
       "model_id": "c33e334fdb954bfbbf97c57e8c447fc7",
       "version_major": 2,
       "version_minor": 0
      },
      "text/plain": [
       "VMEM USAGE: 55.5%|#####5    |  15.2G"
      ]
     },
     "metadata": {},
     "output_type": "display_data"
    }
   ],
   "source": [
    "df['text_stem'] = df.text.p_apply(cleaning_text_stem)\n",
    "df['text_lem_wt_stop_words'] = df.text.p_apply(cleaning_text_lemma, exclude_stop_words=False)\n",
    "df['text_lem'] = df.text.p_apply(cleaning_text_lemma)"
   ]
  },
  {
   "cell_type": "markdown",
   "id": "82807328",
   "metadata": {},
   "source": [
    "## Taille des documents après prétraitement"
   ]
  },
  {
   "cell_type": "markdown",
   "id": "155a5bdf",
   "metadata": {},
   "source": [
    "Les tweets étant traités on peut s'intéresser à la longueur de textes disponibles, information qui sera utile pour le plongement de mots réalisé ensuite."
   ]
  },
  {
   "cell_type": "code",
   "execution_count": 24,
   "id": "1d3606a5",
   "metadata": {
    "ExecuteTime": {
     "end_time": "2023-11-01T17:50:26.020784Z",
     "start_time": "2023-11-01T17:50:25.237805Z"
    }
   },
   "outputs": [],
   "source": [
    "df['long'] = df.text.str.len()\n",
    "df['long_text_lem'] = df.text_lem.apply(len)"
   ]
  },
  {
   "cell_type": "code",
   "execution_count": 25,
   "id": "4792cd9c",
   "metadata": {
    "ExecuteTime": {
     "end_time": "2023-11-01T17:50:26.171274Z",
     "start_time": "2023-11-01T17:50:26.022142Z"
    }
   },
   "outputs": [
    {
     "data": {
      "image/png": "[encoded data removed]",
      "text/plain": [
       "<Figure size 640x480 with 1 Axes>"
      ]
     },
     "metadata": {},
     "output_type": "display_data"
    }
   ],
   "source": [
    "plt.hist(df.long)\n",
    "plt.title(\"Nombre de mots par phrases.\\n Sans pré-traitement\");"
   ]
  },
  {
   "cell_type": "code",
   "execution_count": 26,
   "id": "17c4c6d3",
   "metadata": {
    "ExecuteTime": {
     "end_time": "2023-11-01T17:50:26.210883Z",
     "start_time": "2023-11-01T17:50:26.173228Z"
    },
    "scrolled": false
   },
   "outputs": [
    {
     "data": {
      "text/plain": [
       "count    1,596,630.00\n",
       "mean            74.04\n",
       "std             36.44\n",
       "min              6.00\n",
       "25%             44.00\n",
       "50%             69.00\n",
       "75%            104.00\n",
       "max            374.00\n",
       "Name: long, dtype: object"
      ]
     },
     "execution_count": 26,
     "metadata": {},
     "output_type": "execute_result"
    }
   ],
   "source": [
    "df.long.describe().apply('{:,.2f}'.format)"
   ]
  },
  {
   "cell_type": "code",
   "execution_count": 27,
   "id": "3f305de5",
   "metadata": {
    "ExecuteTime": {
     "end_time": "2023-11-01T17:50:26.462328Z",
     "start_time": "2023-11-01T17:50:26.212163Z"
    },
    "scrolled": false
   },
   "outputs": [
    {
     "data": {
      "text/html": [
       "<div>\n",
       "<style scoped>\n",
       "    .dataframe tbody tr th:only-of-type {\n",
       "        vertical-align: middle;\n",
       "    }\n",
       "\n",
       "    .dataframe tbody tr th {\n",
       "        vertical-align: top;\n",
       "    }\n",
       "\n",
       "    .dataframe thead th {\n",
       "        text-align: right;\n",
       "    }\n",
       "</style>\n",
       "<table border=\"1\" class=\"dataframe\">\n",
       "  <thead>\n",
       "    <tr style=\"text-align: right;\">\n",
       "      <th></th>\n",
       "      <th>target</th>\n",
       "      <th>ids</th>\n",
       "      <th>text</th>\n",
       "      <th>text_stem</th>\n",
       "      <th>text_lem_wt_stop_words</th>\n",
       "      <th>text_lem</th>\n",
       "      <th>long</th>\n",
       "      <th>long_text_lem</th>\n",
       "    </tr>\n",
       "  </thead>\n",
       "  <tbody>\n",
       "    <tr>\n",
       "      <th>379332</th>\n",
       "      <td>0</td>\n",
       "      <td>2052585042</td>\n",
       "      <td>@neospace à¹à¸£à¸·à¹à¸­à¸à¸à¸±à¹à¸à¸à¸£...</td>\n",
       "      <td>[quot, quot, green, parti]</td>\n",
       "      <td>[quot, quot, green, party]</td>\n",
       "      <td>[quot, quot, green, party]</td>\n",
       "      <td>359</td>\n",
       "      <td>4</td>\n",
       "    </tr>\n",
       "    <tr>\n",
       "      <th>649260</th>\n",
       "      <td>0</td>\n",
       "      <td>2237729497</td>\n",
       "      <td>human shield à®à®©à¯?à®± à®à¯à®±à¯?à®¤à¯à®...</td>\n",
       "      <td>[human, shield]</td>\n",
       "      <td>[human, shield]</td>\n",
       "      <td>[human, shield]</td>\n",
       "      <td>348</td>\n",
       "      <td>2</td>\n",
       "    </tr>\n",
       "    <tr>\n",
       "      <th>1228956</th>\n",
       "      <td>4</td>\n",
       "      <td>1991794613</td>\n",
       "      <td>@doax ì´ì°¨í¼ bandwidthë ë¶ì° íì?¼ ì...</td>\n",
       "      <td>[bandwidth, ssd]</td>\n",
       "      <td>[bandwidth, ssd]</td>\n",
       "      <td>[bandwidth, ssd]</td>\n",
       "      <td>312</td>\n",
       "      <td>2</td>\n",
       "    </tr>\n",
       "    <tr>\n",
       "      <th>1261447</th>\n",
       "      <td>4</td>\n",
       "      <td>1999178267</td>\n",
       "      <td>@msathia à®®à¯?à®¹à¯à®®à¯?, à®ªà®¯à®®à¯?à®±à¯...</td>\n",
       "      <td>[2]</td>\n",
       "      <td>[2]</td>\n",
       "      <td>[2]</td>\n",
       "      <td>323</td>\n",
       "      <td>1</td>\n",
       "    </tr>\n",
       "    <tr>\n",
       "      <th>1292538</th>\n",
       "      <td>4</td>\n",
       "      <td>2003659618</td>\n",
       "      <td>@catfish_ohm à¹à¸à¹à¸²à¹à¸«à¹à¸?à¸²à¸£à¹...</td>\n",
       "      <td>[]</td>\n",
       "      <td>[]</td>\n",
       "      <td>[]</td>\n",
       "      <td>374</td>\n",
       "      <td>0</td>\n",
       "    </tr>\n",
       "    <tr>\n",
       "      <th>1316450</th>\n",
       "      <td>4</td>\n",
       "      <td>2014458885</td>\n",
       "      <td>@laches [æçèª å¯¦å",
       "­ååæ¶] æè¿è·ä...</td>\n",
       "      <td>[lach]</td>\n",
       "      <td>[laches]</td>\n",
       "      <td>[laches]</td>\n",
       "      <td>314</td>\n",
       "      <td>1</td>\n",
       "    </tr>\n",
       "    <tr>\n",
       "      <th>1355368</th>\n",
       "      <td>4</td>\n",
       "      <td>2048179655</td>\n",
       "      <td>@thanr à¹à¸à¸µà¹à¸¢à¸§à¹à¸­à¸²à¸£à¸²à¸à¸²...</td>\n",
       "      <td>[]</td>\n",
       "      <td>[]</td>\n",
       "      <td>[]</td>\n",
       "      <td>326</td>\n",
       "      <td>0</td>\n",
       "    </tr>\n",
       "    <tr>\n",
       "      <th>1394450</th>\n",
       "      <td>4</td>\n",
       "      <td>2053957784</td>\n",
       "      <td>ê·¼ë?° ë¡ë°¥ì?´ìì¼ë ì±",
       "ìì§ê³  ë ë¤...</td>\n",
       "      <td>[hitdg]</td>\n",
       "      <td>[hitdg]</td>\n",
       "      <td>[hitdg]</td>\n",
       "      <td>313</td>\n",
       "      <td>1</td>\n",
       "    </tr>\n",
       "    <tr>\n",
       "      <th>1447883</th>\n",
       "      <td>4</td>\n",
       "      <td>2062991891</td>\n",
       "      <td>@KaewGB à¸­à¹à¸­  à¹à¸à¸¢à¸à¸²à¸¡à¹à¹à¸...</td>\n",
       "      <td>[55, resourc, ku, vpn, v]</td>\n",
       "      <td>[55, resource, ku, vpn, v]</td>\n",
       "      <td>[55, resource, ku, vpn, v]</td>\n",
       "      <td>328</td>\n",
       "      <td>5</td>\n",
       "    </tr>\n",
       "    <tr>\n",
       "      <th>1481753</th>\n",
       "      <td>4</td>\n",
       "      <td>2067748792</td>\n",
       "      <td>@iannnnn à¹à¸à¸µà¹à¸¢à¸§à¸­à¸µà¸?à¸à¸±à¸?à...</td>\n",
       "      <td>[graphic]</td>\n",
       "      <td>[graphic]</td>\n",
       "      <td>[graphic]</td>\n",
       "      <td>369</td>\n",
       "      <td>1</td>\n",
       "    </tr>\n",
       "    <tr>\n",
       "      <th>1579623</th>\n",
       "      <td>4</td>\n",
       "      <td>2190374813</td>\n",
       "      <td>5 days till new top gear  î?î?î?î?î?î?î?...</td>\n",
       "      <td>[5, day, till, new, top, gear]</td>\n",
       "      <td>[5, days, till, new, top, gear]</td>\n",
       "      <td>[5, days, till, new, top, gear]</td>\n",
       "      <td>359</td>\n",
       "      <td>6</td>\n",
       "    </tr>\n",
       "  </tbody>\n",
       "</table>\n",
       "</div>"
      ],
      "text/plain": [
       "         target         ids  \\\n",
       "379332        0  2052585042   \n",
       "649260        0  2237729497   \n",
       "1228956       4  1991794613   \n",
       "1261447       4  1999178267   \n",
       "1292538       4  2003659618   \n",
       "1316450       4  2014458885   \n",
       "1355368       4  2048179655   \n",
       "1394450       4  2053957784   \n",
       "1447883       4  2062991891   \n",
       "1481753       4  2067748792   \n",
       "1579623       4  2190374813   \n",
       "\n",
       "                                                      text  \\\n",
       "379332   @neospace à¹à¸£à¸·à¹à¸­à¸à¸à¸±à¹à¸à¸à¸£...   \n",
       "649260   human shield à®à®©à¯?à®± à®à¯à®±à¯?à®¤à¯à®...   \n",
       "1228956  @doax ì´ì°¨í¼ bandwidthë ë¶ì° íì?¼ ì...   \n",
       "1261447  @msathia à®®à¯?à®¹à¯à®®à¯?, à®ªà®¯à®®à¯?à®±à¯...   \n",
       "1292538  @catfish_ohm à¹à¸à¹à¸²à¹à¸«à¹à¸?à¸²à¸£à¹...   \n",
       "1316450   @laches [æçèª å¯¦å\n",
       "­ååæ¶] æè¿è·ä...   \n",
       "1355368  @thanr à¹à¸à¸µà¹à¸¢à¸§à¹à¸­à¸²à¸£à¸²à¸à¸²...   \n",
       "1394450  ê·¼ë?° ë¡ë°¥ì?´ìì¼ë ì±\n",
       "ìì§ê³  ë ë¤...   \n",
       "1447883  @KaewGB à¸­à¹à¸­  à¹à¸à¸¢à¸à¸²à¸¡à¹à¹à¸...   \n",
       "1481753  @iannnnn à¹à¸à¸µà¹à¸¢à¸§à¸­à¸µà¸?à¸à¸±à¸?à...   \n",
       "1579623  5 days till new top gear  î?î?î?î?î?î?î?...   \n",
       "\n",
       "                              text_stem           text_lem_wt_stop_words  \\\n",
       "379332       [quot, quot, green, parti]       [quot, quot, green, party]   \n",
       "649260                  [human, shield]                  [human, shield]   \n",
       "1228956                [bandwidth, ssd]                 [bandwidth, ssd]   \n",
       "1261447                             [2]                              [2]   \n",
       "1292538                              []                               []   \n",
       "1316450                          [lach]                         [laches]   \n",
       "1355368                              []                               []   \n",
       "1394450                         [hitdg]                          [hitdg]   \n",
       "1447883       [55, resourc, ku, vpn, v]       [55, resource, ku, vpn, v]   \n",
       "1481753                       [graphic]                        [graphic]   \n",
       "1579623  [5, day, till, new, top, gear]  [5, days, till, new, top, gear]   \n",
       "\n",
       "                                text_lem  long  long_text_lem  \n",
       "379332        [quot, quot, green, party]   359              4  \n",
       "649260                   [human, shield]   348              2  \n",
       "1228956                 [bandwidth, ssd]   312              2  \n",
       "1261447                              [2]   323              1  \n",
       "1292538                               []   374              0  \n",
       "1316450                         [laches]   314              1  \n",
       "1355368                               []   326              0  \n",
       "1394450                          [hitdg]   313              1  \n",
       "1447883       [55, resource, ku, vpn, v]   328              5  \n",
       "1481753                        [graphic]   369              1  \n",
       "1579623  [5, days, till, new, top, gear]   359              6  "
      ]
     },
     "execution_count": 27,
     "metadata": {},
     "output_type": "execute_result"
    }
   ],
   "source": [
    "df[df.long >300]"
   ]
  },
  {
   "cell_type": "markdown",
   "id": "37937918",
   "metadata": {},
   "source": [
    "On voit que les tweets les plus longs contiennent beaucoup de caractères non-ascii et donc non exploitable.\n",
    "\n",
    "---\n",
    "\n",
    "On constate en revanche que les tweets les plus longs après retraitement sont soit dans une langue autre que l'anglais soit composés de mots incluants des chiffres (`look`-->`l00k`)"
   ]
  },
  {
   "cell_type": "code",
   "execution_count": 28,
   "id": "af797af1",
   "metadata": {
    "ExecuteTime": {
     "end_time": "2023-11-01T17:50:26.507202Z",
     "start_time": "2023-11-01T17:50:26.467244Z"
    },
    "scrolled": true
   },
   "outputs": [
    {
     "data": {
      "text/plain": [
       "count    1,596,630.00\n",
       "mean             7.20\n",
       "std              4.05\n",
       "min              0.00\n",
       "25%              4.00\n",
       "50%              7.00\n",
       "75%             10.00\n",
       "max             50.00\n",
       "Name: long_text_lem, dtype: object"
      ]
     },
     "execution_count": 28,
     "metadata": {},
     "output_type": "execute_result"
    }
   ],
   "source": [
    "df.long_text_lem.describe().apply('{:,.2f}'.format)"
   ]
  },
  {
   "cell_type": "code",
   "execution_count": 29,
   "id": "f264fabc",
   "metadata": {
    "ExecuteTime": {
     "end_time": "2023-11-01T17:50:26.539807Z",
     "start_time": "2023-11-01T17:50:26.508579Z"
    },
    "scrolled": true
   },
   "outputs": [
    {
     "data": {
      "text/html": [
       "<div>\n",
       "<style scoped>\n",
       "    .dataframe tbody tr th:only-of-type {\n",
       "        vertical-align: middle;\n",
       "    }\n",
       "\n",
       "    .dataframe tbody tr th {\n",
       "        vertical-align: top;\n",
       "    }\n",
       "\n",
       "    .dataframe thead th {\n",
       "        text-align: right;\n",
       "    }\n",
       "</style>\n",
       "<table border=\"1\" class=\"dataframe\">\n",
       "  <thead>\n",
       "    <tr style=\"text-align: right;\">\n",
       "      <th></th>\n",
       "      <th>target</th>\n",
       "      <th>ids</th>\n",
       "      <th>text</th>\n",
       "      <th>text_stem</th>\n",
       "      <th>text_lem_wt_stop_words</th>\n",
       "      <th>text_lem</th>\n",
       "      <th>long</th>\n",
       "      <th>long_text_lem</th>\n",
       "    </tr>\n",
       "  </thead>\n",
       "  <tbody>\n",
       "    <tr>\n",
       "      <th>739295</th>\n",
       "      <td>0</td>\n",
       "      <td>2266135402</td>\n",
       "      <td>@Ky_hamho MÃ¬nh tháº¥y trÃªn H2T cÃ³ nÃ³i nhÃ¬...</td>\n",
       "      <td>[nh, th, tr, n, h2t, c, n, nh, u, v, twitter, ...</td>\n",
       "      <td>[m, nh, th, y, tr, n, h2t, c, n, i, nh, u, v, ...</td>\n",
       "      <td>[nh, th, tr, n, h2t, c, n, nh, u, v, twitter, ...</td>\n",
       "      <td>143</td>\n",
       "      <td>27</td>\n",
       "    </tr>\n",
       "    <tr>\n",
       "      <th>1021202</th>\n",
       "      <td>4</td>\n",
       "      <td>1882993884</td>\n",
       "      <td>cnt wait 2 go in town 2moz gt to gt rid of mi ...</td>\n",
       "      <td>[cnt, wait, 2, go, town, 2moz, gt, gt, rid, mi...</td>\n",
       "      <td>[cnt, wait, 2, go, in, town, 2moz, gt, to, gt,...</td>\n",
       "      <td>[cnt, wait, 2, go, town, 2moz, gt, gt, rid, mi...</td>\n",
       "      <td>124</td>\n",
       "      <td>27</td>\n",
       "    </tr>\n",
       "    <tr>\n",
       "      <th>367350</th>\n",
       "      <td>0</td>\n",
       "      <td>2049547916</td>\n",
       "      <td>@TWANI_E won 1 &amp;amp; lost 2, bt we ate @ 7 dis...</td>\n",
       "      <td>[1, amp, lost, 2, bt, ate, 7, dis, morn, amp, ...</td>\n",
       "      <td>[win, 1, amp, lose, 2, bt, we, eat, 7, dis, mo...</td>\n",
       "      <td>[1, amp, lose, 2, bt, eat, 7, dis, morn, amp, ...</td>\n",
       "      <td>149</td>\n",
       "      <td>27</td>\n",
       "    </tr>\n",
       "    <tr>\n",
       "      <th>1320175</th>\n",
       "      <td>4</td>\n",
       "      <td>2014853411</td>\n",
       "      <td>@karennz My pic is weird!!! lol I look like Co...</td>\n",
       "      <td>[pic, weird, lol, look, like, compo, lipstick,...</td>\n",
       "      <td>[my, pic, be, weird, lol, i, look, like, compo...</td>\n",
       "      <td>[pic, weird, lol, look, like, compo, lipstick,...</td>\n",
       "      <td>136</td>\n",
       "      <td>27</td>\n",
       "    </tr>\n",
       "    <tr>\n",
       "      <th>505147</th>\n",
       "      <td>0</td>\n",
       "      <td>2188733366</td>\n",
       "      <td>No puedo dormir  esta es una de esas noches fe...</td>\n",
       "      <td>[puedo, dormir, esta, es, una, de, esa, noch, ...</td>\n",
       "      <td>[no, puedo, dormir, esta, es, una, de, esas, n...</td>\n",
       "      <td>[puedo, dormir, esta, es, una, de, esas, noche...</td>\n",
       "      <td>138</td>\n",
       "      <td>27</td>\n",
       "    </tr>\n",
       "    <tr>\n",
       "      <th>...</th>\n",
       "      <td>...</td>\n",
       "      <td>...</td>\n",
       "      <td>...</td>\n",
       "      <td>...</td>\n",
       "      <td>...</td>\n",
       "      <td>...</td>\n",
       "      <td>...</td>\n",
       "      <td>...</td>\n",
       "    </tr>\n",
       "    <tr>\n",
       "      <th>564778</th>\n",
       "      <td>0</td>\n",
       "      <td>2206850784</td>\n",
       "      <td>ChÆ°a ká»p thá» máº¡nh ÄÃ£ láº¡i nÃ­n thá»...</td>\n",
       "      <td>[ch, k, p, th, nh, l, n, n, th, lao, v, cu, c,...</td>\n",
       "      <td>[ch, a, k, p, th, m, nh, l, i, n, n, th, lao, ...</td>\n",
       "      <td>[ch, k, p, th, nh, l, n, n, th, lao, v, cu, c,...</td>\n",
       "      <td>188</td>\n",
       "      <td>37</td>\n",
       "    </tr>\n",
       "    <tr>\n",
       "      <th>1521771</th>\n",
       "      <td>4</td>\n",
       "      <td>2176797642</td>\n",
       "      <td>NghÄ© ÄÆ¡n giáº£n nhÆ° tháº¿ nÃ y.ThÃ´i khÃ´n...</td>\n",
       "      <td>[ngh, n, gi, n, nh, th, n, th, kh, ng, c, n, c...</td>\n",
       "      <td>[ngh, n, gi, n, nh, th, n, y, th, i, kh, ng, c...</td>\n",
       "      <td>[ngh, n, gi, n, nh, th, n, th, kh, ng, c, n, c...</td>\n",
       "      <td>181</td>\n",
       "      <td>37</td>\n",
       "    </tr>\n",
       "    <tr>\n",
       "      <th>1170693</th>\n",
       "      <td>4</td>\n",
       "      <td>1980719552</td>\n",
       "      <td>I know pi to 12 digits.  &amp;quot;c&amp;quot;,&amp;quot;h...</td>\n",
       "      <td>[know, pi, 12, digit, quot, c, quot, quot, h, ...</td>\n",
       "      <td>[i, know, pi, to, 12, digits, quot, c, quot, q...</td>\n",
       "      <td>[know, pi, 12, digits, quot, c, quot, quot, h,...</td>\n",
       "      <td>220</td>\n",
       "      <td>38</td>\n",
       "    </tr>\n",
       "    <tr>\n",
       "      <th>1167097</th>\n",
       "      <td>4</td>\n",
       "      <td>1980274822</td>\n",
       "      <td>out in tha summer sun, having fun... nej, plug...</td>\n",
       "      <td>[tha, summer, sun, fun, nej, pluggar, men, nd,...</td>\n",
       "      <td>[out, in, tha, summer, sun, have, fun, nej, pl...</td>\n",
       "      <td>[tha, summer, sun, fun, nej, pluggar, men, nd,...</td>\n",
       "      <td>171</td>\n",
       "      <td>40</td>\n",
       "    </tr>\n",
       "    <tr>\n",
       "      <th>1444606</th>\n",
       "      <td>4</td>\n",
       "      <td>2062646625</td>\n",
       "      <td>Thriving Ivory's song &amp;quot;Twilight&amp;quot; &amp;gt...</td>\n",
       "      <td>[thrive, ivori, song, quot, twilight, quot, gt...</td>\n",
       "      <td>[thrive, ivory, s, song, quot, twilight, quot,...</td>\n",
       "      <td>[thrive, ivory, song, quot, twilight, quot, gt...</td>\n",
       "      <td>235</td>\n",
       "      <td>50</td>\n",
       "    </tr>\n",
       "  </tbody>\n",
       "</table>\n",
       "<p>144 rows × 8 columns</p>\n",
       "</div>"
      ],
      "text/plain": [
       "         target         ids  \\\n",
       "739295        0  2266135402   \n",
       "1021202       4  1882993884   \n",
       "367350        0  2049547916   \n",
       "1320175       4  2014853411   \n",
       "505147        0  2188733366   \n",
       "...         ...         ...   \n",
       "564778        0  2206850784   \n",
       "1521771       4  2176797642   \n",
       "1170693       4  1980719552   \n",
       "1167097       4  1980274822   \n",
       "1444606       4  2062646625   \n",
       "\n",
       "                                                      text  \\\n",
       "739295   @Ky_hamho MÃ¬nh tháº¥y trÃªn H2T cÃ³ nÃ³i nhÃ¬...   \n",
       "1021202  cnt wait 2 go in town 2moz gt to gt rid of mi ...   \n",
       "367350   @TWANI_E won 1 &amp; lost 2, bt we ate @ 7 dis...   \n",
       "1320175  @karennz My pic is weird!!! lol I look like Co...   \n",
       "505147   No puedo dormir  esta es una de esas noches fe...   \n",
       "...                                                    ...   \n",
       "564778   ChÆ°a ká»p thá» máº¡nh ÄÃ£ láº¡i nÃ­n thá»...   \n",
       "1521771  NghÄ© ÄÆ¡n giáº£n nhÆ° tháº¿ nÃ y.ThÃ´i khÃ´n...   \n",
       "1170693  I know pi to 12 digits.  &quot;c&quot;,&quot;h...   \n",
       "1167097  out in tha summer sun, having fun... nej, plug...   \n",
       "1444606  Thriving Ivory's song &quot;Twilight&quot; &gt...   \n",
       "\n",
       "                                                 text_stem  \\\n",
       "739295   [nh, th, tr, n, h2t, c, n, nh, u, v, twitter, ...   \n",
       "1021202  [cnt, wait, 2, go, town, 2moz, gt, gt, rid, mi...   \n",
       "367350   [1, amp, lost, 2, bt, ate, 7, dis, morn, amp, ...   \n",
       "1320175  [pic, weird, lol, look, like, compo, lipstick,...   \n",
       "505147   [puedo, dormir, esta, es, una, de, esa, noch, ...   \n",
       "...                                                    ...   \n",
       "564778   [ch, k, p, th, nh, l, n, n, th, lao, v, cu, c,...   \n",
       "1521771  [ngh, n, gi, n, nh, th, n, th, kh, ng, c, n, c...   \n",
       "1170693  [know, pi, 12, digit, quot, c, quot, quot, h, ...   \n",
       "1167097  [tha, summer, sun, fun, nej, pluggar, men, nd,...   \n",
       "1444606  [thrive, ivori, song, quot, twilight, quot, gt...   \n",
       "\n",
       "                                    text_lem_wt_stop_words  \\\n",
       "739295   [m, nh, th, y, tr, n, h2t, c, n, i, nh, u, v, ...   \n",
       "1021202  [cnt, wait, 2, go, in, town, 2moz, gt, to, gt,...   \n",
       "367350   [win, 1, amp, lose, 2, bt, we, eat, 7, dis, mo...   \n",
       "1320175  [my, pic, be, weird, lol, i, look, like, compo...   \n",
       "505147   [no, puedo, dormir, esta, es, una, de, esas, n...   \n",
       "...                                                    ...   \n",
       "564778   [ch, a, k, p, th, m, nh, l, i, n, n, th, lao, ...   \n",
       "1521771  [ngh, n, gi, n, nh, th, n, y, th, i, kh, ng, c...   \n",
       "1170693  [i, know, pi, to, 12, digits, quot, c, quot, q...   \n",
       "1167097  [out, in, tha, summer, sun, have, fun, nej, pl...   \n",
       "1444606  [thrive, ivory, s, song, quot, twilight, quot,...   \n",
       "\n",
       "                                                  text_lem  long  \\\n",
       "739295   [nh, th, tr, n, h2t, c, n, nh, u, v, twitter, ...   143   \n",
       "1021202  [cnt, wait, 2, go, town, 2moz, gt, gt, rid, mi...   124   \n",
       "367350   [1, amp, lose, 2, bt, eat, 7, dis, morn, amp, ...   149   \n",
       "1320175  [pic, weird, lol, look, like, compo, lipstick,...   136   \n",
       "505147   [puedo, dormir, esta, es, una, de, esas, noche...   138   \n",
       "...                                                    ...   ...   \n",
       "564778   [ch, k, p, th, nh, l, n, n, th, lao, v, cu, c,...   188   \n",
       "1521771  [ngh, n, gi, n, nh, th, n, th, kh, ng, c, n, c...   181   \n",
       "1170693  [know, pi, 12, digits, quot, c, quot, quot, h,...   220   \n",
       "1167097  [tha, summer, sun, fun, nej, pluggar, men, nd,...   171   \n",
       "1444606  [thrive, ivory, song, quot, twilight, quot, gt...   235   \n",
       "\n",
       "         long_text_lem  \n",
       "739295              27  \n",
       "1021202             27  \n",
       "367350              27  \n",
       "1320175             27  \n",
       "505147              27  \n",
       "...                ...  \n",
       "564778              37  \n",
       "1521771             37  \n",
       "1170693             38  \n",
       "1167097             40  \n",
       "1444606             50  \n",
       "\n",
       "[144 rows x 8 columns]"
      ]
     },
     "execution_count": 29,
     "metadata": {},
     "output_type": "execute_result"
    }
   ],
   "source": [
    "df[df.long_text_lem >df.long_text_lem.quantile(.9999)].sort_values(by='long_text_lem')"
   ]
  },
  {
   "cell_type": "code",
   "execution_count": 30,
   "id": "6023751d",
   "metadata": {
    "ExecuteTime": {
     "end_time": "2023-11-01T17:50:27.168540Z",
     "start_time": "2023-11-01T17:50:26.541185Z"
    }
   },
   "outputs": [],
   "source": [
    "df['long_text_lem_wt_stop_words'] = df.text_lem_wt_stop_words.apply(len)\n",
    "df['long_text_stem'] = df.text_stem.apply(len)"
   ]
  },
  {
   "cell_type": "code",
   "execution_count": 31,
   "id": "84578073",
   "metadata": {
    "ExecuteTime": {
     "end_time": "2023-11-01T17:50:27.476859Z",
     "start_time": "2023-11-01T17:50:27.169977Z"
    }
   },
   "outputs": [
    {
     "data": {
      "image/png": "[encoded data removed]",
      "text/plain": [
       "<Figure size 640x480 with 1 Axes>"
      ]
     },
     "metadata": {},
     "output_type": "display_data"
    }
   ],
   "source": [
    "sns.boxplot(data=df.iloc[:,-4:], orient='h')\n",
    "plt.title(\"Nombre de mots par phrases\\n Sans et avec pré-traitements\")\n",
    "plt.xlabel('Nombre de mots')\n",
    "plt.yticks(ticks=range(4),labels=['Ss pré-traitement', 'Lemmatization ss stop words', 'Lemmatization ac stop words', 'Stemming']);"
   ]
  },
  {
   "cell_type": "code",
   "execution_count": 32,
   "id": "f51a9900",
   "metadata": {
    "ExecuteTime": {
     "end_time": "2023-11-01T17:50:27.508416Z",
     "start_time": "2023-11-01T17:50:27.478143Z"
    },
    "scrolled": true
   },
   "outputs": [
    {
     "name": "stdout",
     "output_type": "stream",
     "text": [
      "Nombre de textes vides après traitement: 7668\n"
     ]
    }
   ],
   "source": [
    "print(\"Nombre de textes vides après traitement:\" ,df[df.long_text_lem == 0].shape[0])"
   ]
  },
  {
   "cell_type": "code",
   "execution_count": 33,
   "id": "be431aff",
   "metadata": {
    "ExecuteTime": {
     "end_time": "2023-11-01T17:50:27.695131Z",
     "start_time": "2023-11-01T17:50:27.510261Z"
    }
   },
   "outputs": [
    {
     "data": {
      "text/plain": [
       "1588818"
      ]
     },
     "execution_count": 33,
     "metadata": {},
     "output_type": "execute_result"
    }
   ],
   "source": [
    "cond1 = df.long_text_lem == 0\n",
    "cond2 = df.long_text_lem > df.long_text_lem.quantile(.9999)\n",
    "df[~(cond2 | cond1)].shape[0]"
   ]
  },
  {
   "cell_type": "markdown",
   "id": "4b3f1902",
   "metadata": {},
   "source": [
    "Enfin on peut voir que le traitements de tweets peut créer des listes vides qui doivent donc être supprimés car inexploitables.\n",
    "\n",
    "On se retrouvera finalement avec un dataset complet de $1588818$ contre $1600000$ à l'import ($11182$ tweets supprimés)."
   ]
  },
  {
   "cell_type": "code",
   "execution_count": 34,
   "id": "b39787b2",
   "metadata": {
    "ExecuteTime": {
     "end_time": "2023-11-01T17:50:27.857411Z",
     "start_time": "2023-11-01T17:50:27.696710Z"
    }
   },
   "outputs": [],
   "source": [
    "df = df[~(cond2 | cond1)]\n",
    "del cond2, cond1"
   ]
  },
  {
   "cell_type": "code",
   "execution_count": 35,
   "id": "99fdc983",
   "metadata": {
    "ExecuteTime": {
     "end_time": "2023-11-01T17:50:27.861075Z",
     "start_time": "2023-11-01T17:50:27.858782Z"
    }
   },
   "outputs": [],
   "source": [
    "path = './data/cleaned_data.csv'\n",
    "# df.to_csv(path, index=False)"
   ]
  },
  {
   "cell_type": "code",
   "execution_count": 36,
   "id": "039b4b69",
   "metadata": {
    "ExecuteTime": {
     "end_time": "2023-11-01T17:50:27.867221Z",
     "start_time": "2023-11-01T17:50:27.862020Z"
    }
   },
   "outputs": [],
   "source": [
    "# df = pd.read_csv(path)\n",
    "# df.head()"
   ]
  },
  {
   "cell_type": "markdown",
   "id": "f0c7d71b",
   "metadata": {},
   "source": [
    "# Modèle baseline"
   ]
  },
  {
   "cell_type": "markdown",
   "id": "8d565664",
   "metadata": {},
   "source": [
    "On crée un modèle de base pour avoir une référence.\n",
    "\n",
    "Ici notre modèle de base renvoie la valeur la plus fréquente dans le jeu d'entrainement."
   ]
  },
  {
   "cell_type": "code",
   "execution_count": 37,
   "id": "871d7503",
   "metadata": {
    "ExecuteTime": {
     "end_time": "2023-11-01T17:50:28.397909Z",
     "start_time": "2023-11-01T17:50:27.868153Z"
    }
   },
   "outputs": [
    {
     "name": "stdout",
     "output_type": "stream",
     "text": [
      "TRAIN size: 3200\n",
      "TEST size: 800\n"
     ]
    }
   ],
   "source": [
    "df_train, df_test = train_test_split(df.sample(4_000, random_state=32), test_size=.2, random_state=42)\n",
    "print(\"TRAIN size:\", len(df_train))\n",
    "print(\"TEST size:\", len(df_test))\n",
    "\n",
    "del df"
   ]
  },
  {
   "cell_type": "code",
   "execution_count": 38,
   "id": "c9f51fa9",
   "metadata": {
    "ExecuteTime": {
     "end_time": "2023-11-01T17:50:28.402912Z",
     "start_time": "2023-11-01T17:50:28.399037Z"
    }
   },
   "outputs": [],
   "source": [
    "# Création de la target\n",
    "y_train = df_train.target.apply(lambda x: 1 if x==4 else 0).to_numpy()\n",
    "y_test = df_test.target.apply(lambda x: 1 if x==4 else 0).to_numpy()"
   ]
  },
  {
   "cell_type": "code",
   "execution_count": 39,
   "id": "804f3a56",
   "metadata": {
    "ExecuteTime": {
     "end_time": "2023-11-01T17:50:28.411143Z",
     "start_time": "2023-11-01T17:50:28.404012Z"
    }
   },
   "outputs": [
    {
     "name": "stdout",
     "output_type": "stream",
     "text": [
      "Nombre de tweet dans le jeu d'entrainements {0: 1570, 1: 1630}\n",
      "Accuracy baseline:  0.48\n"
     ]
    }
   ],
   "source": [
    "\n",
    "unique, counts = np.unique(y_train, return_counts=True)\n",
    "counts = dict(zip(unique, counts))\n",
    "print(\"Nombre de tweet dans le jeu d'entrainements\", counts)\n",
    "\n",
    "y_pred = 0 if counts[0] > counts[1] else 1\n",
    "del unique, counts\n",
    "print('Accuracy baseline: ', accuracy_score(y_test, [y_pred]*len(y_test)))"
   ]
  },
  {
   "cell_type": "markdown",
   "id": "d8e861a8",
   "metadata": {},
   "source": [
    "# Modèle simple : Régression logistique"
   ]
  },
  {
   "cell_type": "code",
   "execution_count": 41,
   "id": "7481747c",
   "metadata": {
    "ExecuteTime": {
     "end_time": "2023-11-01T17:50:53.500941Z",
     "start_time": "2023-11-01T17:50:53.498604Z"
    }
   },
   "outputs": [],
   "source": [
    "# Déclaration à faire à la première utilisation uniquement.\n",
    "\n",
    "# experiment_description = (\n",
    "#     \"P7 OC : Détection de bad buzz dans des tweets\"\n",
    "#     \"Cette expérimentation se fait sur les données prepocessées vectorisées via Tf-idf et passées à une régression logistique.\"\n",
    "# )\n",
    "\n",
    "# experiment_tags = {\n",
    "#     \"project_name\": \"P7_Detecter_bad_buz\",\n",
    "#     \"preprocessing_stop_words_excluded\": 'True',\n",
    "#     \"preprocessing_normalisation\": \"lemmatization\",\n",
    "#     \"preprocessing_lemmatization_pos\": \"verb\",\n",
    "#     \"vectorization\" : 'Tf-idf',\n",
    "#     \"word_embedding\" : 'None',\n",
    "#     \"model_classif\": \"regression_logistique\",\n",
    "#     \"mlflow.note.content\": experiment_description,\n",
    "# }\n",
    "\n",
    "# modele_simple_experiment = client.create_experiment(name=\"modele_simple\", tags=experiment_tags)\n"
   ]
  },
  {
   "cell_type": "code",
   "execution_count": 42,
   "id": "622ae0cd",
   "metadata": {
    "ExecuteTime": {
     "end_time": "2023-11-01T17:50:54.957408Z",
     "start_time": "2023-11-01T17:50:54.954504Z"
    }
   },
   "outputs": [],
   "source": [
    "# tf_idf_vectorizer = TfidfVectorizer()\n",
    "\n",
    "# weighted_words = pd.DataFrame(tf_idf_vectorizer.fit_transform(df_train.text_lem.apply(' '.join)),\n",
    "#                     index=df_train.text)\n",
    "# print('Shape du résultat obtenu:',weighted_words.shape)\n",
    "# print(weighted_words.columns)\n"
   ]
  },
  {
   "cell_type": "code",
   "execution_count": 4,
   "id": "529291c4",
   "metadata": {
    "ExecuteTime": {
     "end_time": "2023-11-04T07:30:04.154033Z",
     "start_time": "2023-11-04T07:29:59.440291Z"
    },
    "scrolled": false
   },
   "outputs": [
    {
     "name": "stdout",
     "output_type": "stream",
     "text": [
      "new dataframe size:  37421.14 kB\n",
      "optimized size by 29.0 %\n",
      "new dataframe size:  26506.68  kB\n"
     ]
    },
    {
     "data": {
      "application/vnd.jupyter.widget-view+json": {
       "model_id": "8379be209e6b4ef0b0b5e788535807d5",
       "version_major": 2,
       "version_minor": 0
      },
      "text/plain": [
       "CLEANING_TEXT_LEMMA DONE:   0%|          | 0/4000 [00:00<?, ?it/s]"
      ]
     },
     "metadata": {},
     "output_type": "display_data"
    },
    {
     "data": {
      "application/vnd.jupyter.widget-view+json": {
       "model_id": "be1d40d61ce64e508c7be3b7c5b77cbe",
       "version_major": 2,
       "version_minor": 0
      },
      "text/plain": [
       "VMEM USAGE: 35.3%|###5      |  15.2G"
      ]
     },
     "metadata": {},
     "output_type": "display_data"
    }
   ],
   "source": [
    "df = import_data()\n",
    "X_train, X_test, y_train, y_test = get_train_and_test_set(df, sample=True, sample_size=4_000)"
   ]
  },
  {
   "cell_type": "code",
   "execution_count": 7,
   "id": "4d792175",
   "metadata": {
    "ExecuteTime": {
     "end_time": "2023-11-04T07:30:38.103306Z",
     "start_time": "2023-11-04T07:30:38.068407Z"
    }
   },
   "outputs": [
    {
     "data": {
      "text/plain": [
       "<3200x5929 sparse matrix of type '<class 'numpy.float64'>'\n",
       "\twith 21695 stored elements in Compressed Sparse Row format>"
      ]
     },
     "execution_count": 7,
     "metadata": {},
     "output_type": "execute_result"
    }
   ],
   "source": [
    "tf_idf_vectorizer = TfidfVectorizer()\n",
    "tf_idf_vectorizer.fit_transform(X_train.apply(' '.join))"
   ]
  },
  {
   "cell_type": "code",
   "execution_count": 8,
   "id": "38801899",
   "metadata": {
    "ExecuteTime": {
     "end_time": "2023-11-04T07:30:47.865006Z",
     "start_time": "2023-11-04T07:30:47.859098Z"
    },
    "scrolled": true
   },
   "outputs": [
    {
     "data": {
      "text/html": [
       "<style>#sk-container-id-1 {color: black;}#sk-container-id-1 pre{padding: 0;}#sk-container-id-1 div.sk-toggleable {background-color: white;}#sk-container-id-1 label.sk-toggleable__label {cursor: pointer;display: block;width: 100%;margin-bottom: 0;padding: 0.3em;box-sizing: border-box;text-align: center;}#sk-container-id-1 label.sk-toggleable__label-arrow:before {content: \"▸\";float: left;margin-right: 0.25em;color: #696969;}#sk-container-id-1 label.sk-toggleable__label-arrow:hover:before {color: black;}#sk-container-id-1 div.sk-estimator:hover label.sk-toggleable__label-arrow:before {color: black;}#sk-container-id-1 div.sk-toggleable__content {max-height: 0;max-width: 0;overflow: hidden;text-align: left;background-color: #f0f8ff;}#sk-container-id-1 div.sk-toggleable__content pre {margin: 0.2em;color: black;border-radius: 0.25em;background-color: #f0f8ff;}#sk-container-id-1 input.sk-toggleable__control:checked~div.sk-toggleable__content {max-height: 200px;max-width: 100%;overflow: auto;}#sk-container-id-1 input.sk-toggleable__control:checked~label.sk-toggleable__label-arrow:before {content: \"▾\";}#sk-container-id-1 div.sk-estimator input.sk-toggleable__control:checked~label.sk-toggleable__label {background-color: #d4ebff;}#sk-container-id-1 div.sk-label input.sk-toggleable__control:checked~label.sk-toggleable__label {background-color: #d4ebff;}#sk-container-id-1 input.sk-hidden--visually {border: 0;clip: rect(1px 1px 1px 1px);clip: rect(1px, 1px, 1px, 1px);height: 1px;margin: -1px;overflow: hidden;padding: 0;position: absolute;width: 1px;}#sk-container-id-1 div.sk-estimator {font-family: monospace;background-color: #f0f8ff;border: 1px dotted black;border-radius: 0.25em;box-sizing: border-box;margin-bottom: 0.5em;}#sk-container-id-1 div.sk-estimator:hover {background-color: #d4ebff;}#sk-container-id-1 div.sk-parallel-item::after {content: \"\";width: 100%;border-bottom: 1px solid gray;flex-grow: 1;}#sk-container-id-1 div.sk-label:hover label.sk-toggleable__label {background-color: #d4ebff;}#sk-container-id-1 div.sk-serial::before {content: \"\";position: absolute;border-left: 1px solid gray;box-sizing: border-box;top: 0;bottom: 0;left: 50%;z-index: 0;}#sk-container-id-1 div.sk-serial {display: flex;flex-direction: column;align-items: center;background-color: white;padding-right: 0.2em;padding-left: 0.2em;position: relative;}#sk-container-id-1 div.sk-item {position: relative;z-index: 1;}#sk-container-id-1 div.sk-parallel {display: flex;align-items: stretch;justify-content: center;background-color: white;position: relative;}#sk-container-id-1 div.sk-item::before, #sk-container-id-1 div.sk-parallel-item::before {content: \"\";position: absolute;border-left: 1px solid gray;box-sizing: border-box;top: 0;bottom: 0;left: 50%;z-index: -1;}#sk-container-id-1 div.sk-parallel-item {display: flex;flex-direction: column;z-index: 1;position: relative;background-color: white;}#sk-container-id-1 div.sk-parallel-item:first-child::after {align-self: flex-end;width: 50%;}#sk-container-id-1 div.sk-parallel-item:last-child::after {align-self: flex-start;width: 50%;}#sk-container-id-1 div.sk-parallel-item:only-child::after {width: 0;}#sk-container-id-1 div.sk-dashed-wrapped {border: 1px dashed gray;margin: 0 0.4em 0.5em 0.4em;box-sizing: border-box;padding-bottom: 0.4em;background-color: white;}#sk-container-id-1 div.sk-label label {font-family: monospace;font-weight: bold;display: inline-block;line-height: 1.2em;}#sk-container-id-1 div.sk-label-container {text-align: center;}#sk-container-id-1 div.sk-container {/* jupyter's `normalize.less` sets `[hidden] { display: none; }` but bootstrap.min.css set `[hidden] { display: none !important; }` so we also need the `!important` here to be able to override the default hidden behavior on the sphinx rendered scikit-learn.org. See: https://github.com/scikit-learn/scikit-learn/issues/21755 */display: inline-block !important;position: relative;}#sk-container-id-1 div.sk-text-repr-fallback {display: none;}</style><div id=\"sk-container-id-1\" class=\"sk-top-container\"><div class=\"sk-text-repr-fallback\"><pre>Pipeline(steps=[(&#x27;tfidfvectorizer&#x27;, TfidfVectorizer()),\n",
       "                (&#x27;logisticregression&#x27;, LogisticRegression(max_iter=10000))])</pre><b>In a Jupyter environment, please rerun this cell to show the HTML representation or trust the notebook. <br />On GitHub, the HTML representation is unable to render, please try loading this page with nbviewer.org.</b></div><div class=\"sk-container\" hidden><div class=\"sk-item sk-dashed-wrapped\"><div class=\"sk-label-container\"><div class=\"sk-label sk-toggleable\"><input class=\"sk-toggleable__control sk-hidden--visually\" id=\"sk-estimator-id-1\" type=\"checkbox\" ><label for=\"sk-estimator-id-1\" class=\"sk-toggleable__label sk-toggleable__label-arrow\">Pipeline</label><div class=\"sk-toggleable__content\"><pre>Pipeline(steps=[(&#x27;tfidfvectorizer&#x27;, TfidfVectorizer()),\n",
       "                (&#x27;logisticregression&#x27;, LogisticRegression(max_iter=10000))])</pre></div></div></div><div class=\"sk-serial\"><div class=\"sk-item\"><div class=\"sk-estimator sk-toggleable\"><input class=\"sk-toggleable__control sk-hidden--visually\" id=\"sk-estimator-id-2\" type=\"checkbox\" ><label for=\"sk-estimator-id-2\" class=\"sk-toggleable__label sk-toggleable__label-arrow\">TfidfVectorizer</label><div class=\"sk-toggleable__content\"><pre>TfidfVectorizer()</pre></div></div></div><div class=\"sk-item\"><div class=\"sk-estimator sk-toggleable\"><input class=\"sk-toggleable__control sk-hidden--visually\" id=\"sk-estimator-id-3\" type=\"checkbox\" ><label for=\"sk-estimator-id-3\" class=\"sk-toggleable__label sk-toggleable__label-arrow\">LogisticRegression</label><div class=\"sk-toggleable__content\"><pre>LogisticRegression(max_iter=10000)</pre></div></div></div></div></div></div></div>"
      ],
      "text/plain": [
       "Pipeline(steps=[('tfidfvectorizer', TfidfVectorizer()),\n",
       "                ('logisticregression', LogisticRegression(max_iter=10000))])"
      ]
     },
     "execution_count": 8,
     "metadata": {},
     "output_type": "execute_result"
    }
   ],
   "source": [
    "del tf_idf_vectorizer\n",
    "pipe_LR = make_pipeline(TfidfVectorizer(),LogisticRegression(max_iter=10000))\n",
    "pipe_LR"
   ]
  },
  {
   "cell_type": "code",
   "execution_count": 11,
   "id": "7675d0b8",
   "metadata": {
    "ExecuteTime": {
     "end_time": "2023-11-04T07:36:08.701684Z",
     "start_time": "2023-11-04T07:32:22.561563Z"
    },
    "scrolled": true
   },
   "outputs": [
    {
     "name": "stdout",
     "output_type": "stream",
     "text": [
      "Fitting 3 folds for each of 242 candidates, totalling 726 fits\n"
     ]
    },
    {
     "name": "stderr",
     "output_type": "stream",
     "text": [
      "/home/pjcggf/.pyenv/versions/3.10.6/envs/OC/lib/python3.10/site-packages/sklearn/linear_model/_glm/_newton_solver.py:287: ConvergenceWarning: Line search of Newton solver NewtonCholeskySolver at iteration #5 did no converge after 21 line search refinement iterations. It will now resort to lbfgs instead.\n",
      "  warnings.warn(\n",
      "/home/pjcggf/.pyenv/versions/3.10.6/envs/OC/lib/python3.10/site-packages/sklearn/linear_model/_glm/_newton_solver.py:287: ConvergenceWarning: Line search of Newton solver NewtonCholeskySolver at iteration #6 did no converge after 21 line search refinement iterations. It will now resort to lbfgs instead.\n",
      "  warnings.warn(\n",
      "/home/pjcggf/.pyenv/versions/3.10.6/envs/OC/lib/python3.10/site-packages/sklearn/linear_model/_glm/_newton_solver.py:287: ConvergenceWarning: Line search of Newton solver NewtonCholeskySolver at iteration #5 did no converge after 21 line search refinement iterations. It will now resort to lbfgs instead.\n",
      "  warnings.warn(\n",
      "/home/pjcggf/.pyenv/versions/3.10.6/envs/OC/lib/python3.10/site-packages/sklearn/linear_model/_glm/_newton_solver.py:287: ConvergenceWarning: Line search of Newton solver NewtonCholeskySolver at iteration #5 did no converge after 21 line search refinement iterations. It will now resort to lbfgs instead.\n",
      "  warnings.warn(\n",
      "/home/pjcggf/.pyenv/versions/3.10.6/envs/OC/lib/python3.10/site-packages/sklearn/linear_model/_glm/_newton_solver.py:287: ConvergenceWarning: Line search of Newton solver NewtonCholeskySolver at iteration #5 did no converge after 21 line search refinement iterations. It will now resort to lbfgs instead.\n",
      "  warnings.warn(\n",
      "/home/pjcggf/.pyenv/versions/3.10.6/envs/OC/lib/python3.10/site-packages/sklearn/linear_model/_glm/_newton_solver.py:287: ConvergenceWarning: Line search of Newton solver NewtonCholeskySolver at iteration #6 did no converge after 21 line search refinement iterations. It will now resort to lbfgs instead.\n",
      "  warnings.warn(\n",
      "/home/pjcggf/.pyenv/versions/3.10.6/envs/OC/lib/python3.10/site-packages/sklearn/linear_model/_glm/_newton_solver.py:287: ConvergenceWarning: Line search of Newton solver NewtonCholeskySolver at iteration #5 did no converge after 21 line search refinement iterations. It will now resort to lbfgs instead.\n",
      "  warnings.warn(\n",
      "/home/pjcggf/.pyenv/versions/3.10.6/envs/OC/lib/python3.10/site-packages/sklearn/linear_model/_glm/_newton_solver.py:287: ConvergenceWarning: Line search of Newton solver NewtonCholeskySolver at iteration #5 did no converge after 21 line search refinement iterations. It will now resort to lbfgs instead.\n",
      "  warnings.warn(\n",
      "/home/pjcggf/.pyenv/versions/3.10.6/envs/OC/lib/python3.10/site-packages/sklearn/linear_model/_glm/_newton_solver.py:287: ConvergenceWarning: Line search of Newton solver NewtonCholeskySolver at iteration #6 did no converge after 21 line search refinement iterations. It will now resort to lbfgs instead.\n",
      "  warnings.warn(\n",
      "/home/pjcggf/.pyenv/versions/3.10.6/envs/OC/lib/python3.10/site-packages/sklearn/linear_model/_glm/_newton_solver.py:287: ConvergenceWarning: Line search of Newton solver NewtonCholeskySolver at iteration #6 did no converge after 21 line search refinement iterations. It will now resort to lbfgs instead.\n",
      "  warnings.warn(\n",
      "/home/pjcggf/.pyenv/versions/3.10.6/envs/OC/lib/python3.10/site-packages/sklearn/linear_model/_glm/_newton_solver.py:287: ConvergenceWarning: Line search of Newton solver NewtonCholeskySolver at iteration #5 did no converge after 21 line search refinement iterations. It will now resort to lbfgs instead.\n",
      "  warnings.warn(\n",
      "/home/pjcggf/.pyenv/versions/3.10.6/envs/OC/lib/python3.10/site-packages/sklearn/linear_model/_glm/_newton_solver.py:287: ConvergenceWarning: Line search of Newton solver NewtonCholeskySolver at iteration #5 did no converge after 21 line search refinement iterations. It will now resort to lbfgs instead.\n",
      "  warnings.warn(\n",
      "/home/pjcggf/.pyenv/versions/3.10.6/envs/OC/lib/python3.10/site-packages/sklearn/linear_model/_glm/_newton_solver.py:287: ConvergenceWarning: Line search of Newton solver NewtonCholeskySolver at iteration #6 did no converge after 21 line search refinement iterations. It will now resort to lbfgs instead.\n",
      "  warnings.warn(\n",
      "/home/pjcggf/.pyenv/versions/3.10.6/envs/OC/lib/python3.10/site-packages/sklearn/linear_model/_glm/_newton_solver.py:287: ConvergenceWarning: Line search of Newton solver NewtonCholeskySolver at iteration #6 did no converge after 21 line search refinement iterations. It will now resort to lbfgs instead.\n",
      "  warnings.warn(\n",
      "/home/pjcggf/.pyenv/versions/3.10.6/envs/OC/lib/python3.10/site-packages/sklearn/linear_model/_glm/_newton_solver.py:287: ConvergenceWarning: Line search of Newton solver NewtonCholeskySolver at iteration #5 did no converge after 21 line search refinement iterations. It will now resort to lbfgs instead.\n",
      "  warnings.warn(\n",
      "/home/pjcggf/.pyenv/versions/3.10.6/envs/OC/lib/python3.10/site-packages/sklearn/linear_model/_glm/_newton_solver.py:287: ConvergenceWarning: Line search of Newton solver NewtonCholeskySolver at iteration #6 did no converge after 21 line search refinement iterations. It will now resort to lbfgs instead.\n",
      "  warnings.warn(\n",
      "/home/pjcggf/.pyenv/versions/3.10.6/envs/OC/lib/python3.10/site-packages/sklearn/linear_model/_glm/_newton_solver.py:287: ConvergenceWarning: Line search of Newton solver NewtonCholeskySolver at iteration #6 did no converge after 21 line search refinement iterations. It will now resort to lbfgs instead.\n",
      "  warnings.warn(\n",
      "/home/pjcggf/.pyenv/versions/3.10.6/envs/OC/lib/python3.10/site-packages/sklearn/linear_model/_glm/_newton_solver.py:287: ConvergenceWarning: Line search of Newton solver NewtonCholeskySolver at iteration #6 did no converge after 21 line search refinement iterations. It will now resort to lbfgs instead.\n",
      "  warnings.warn(\n",
      "/home/pjcggf/.pyenv/versions/3.10.6/envs/OC/lib/python3.10/site-packages/sklearn/linear_model/_glm/_newton_solver.py:287: ConvergenceWarning: Line search of Newton solver NewtonCholeskySolver at iteration #6 did no converge after 21 line search refinement iterations. It will now resort to lbfgs instead.\n",
      "  warnings.warn(\n",
      "/home/pjcggf/.pyenv/versions/3.10.6/envs/OC/lib/python3.10/site-packages/sklearn/linear_model/_glm/_newton_solver.py:287: ConvergenceWarning: Line search of Newton solver NewtonCholeskySolver at iteration #6 did no converge after 21 line search refinement iterations. It will now resort to lbfgs instead.\n",
      "  warnings.warn(\n",
      "/home/pjcggf/.pyenv/versions/3.10.6/envs/OC/lib/python3.10/site-packages/sklearn/linear_model/_glm/_newton_solver.py:287: ConvergenceWarning: Line search of Newton solver NewtonCholeskySolver at iteration #6 did no converge after 21 line search refinement iterations. It will now resort to lbfgs instead.\n",
      "  warnings.warn(\n",
      "/home/pjcggf/.pyenv/versions/3.10.6/envs/OC/lib/python3.10/site-packages/sklearn/linear_model/_glm/_newton_solver.py:287: ConvergenceWarning: Line search of Newton solver NewtonCholeskySolver at iteration #6 did no converge after 21 line search refinement iterations. It will now resort to lbfgs instead.\n",
      "  warnings.warn(\n",
      "/home/pjcggf/.pyenv/versions/3.10.6/envs/OC/lib/python3.10/site-packages/sklearn/linear_model/_glm/_newton_solver.py:287: ConvergenceWarning: Line search of Newton solver NewtonCholeskySolver at iteration #6 did no converge after 21 line search refinement iterations. It will now resort to lbfgs instead.\n",
      "  warnings.warn(\n",
      "/home/pjcggf/.pyenv/versions/3.10.6/envs/OC/lib/python3.10/site-packages/sklearn/linear_model/_glm/_newton_solver.py:287: ConvergenceWarning: Line search of Newton solver NewtonCholeskySolver at iteration #6 did no converge after 21 line search refinement iterations. It will now resort to lbfgs instead.\n",
      "  warnings.warn(\n",
      "/home/pjcggf/.pyenv/versions/3.10.6/envs/OC/lib/python3.10/site-packages/sklearn/linear_model/_glm/_newton_solver.py:287: ConvergenceWarning: Line search of Newton solver NewtonCholeskySolver at iteration #6 did no converge after 21 line search refinement iterations. It will now resort to lbfgs instead.\n",
      "  warnings.warn(\n",
      "/home/pjcggf/.pyenv/versions/3.10.6/envs/OC/lib/python3.10/site-packages/sklearn/linear_model/_glm/_newton_solver.py:287: ConvergenceWarning: Line search of Newton solver NewtonCholeskySolver at iteration #6 did no converge after 21 line search refinement iterations. It will now resort to lbfgs instead.\n",
      "  warnings.warn(\n"
     ]
    },
    {
     "name": "stderr",
     "output_type": "stream",
     "text": [
      "/home/pjcggf/.pyenv/versions/3.10.6/envs/OC/lib/python3.10/site-packages/sklearn/linear_model/_glm/_newton_solver.py:287: ConvergenceWarning: Line search of Newton solver NewtonCholeskySolver at iteration #6 did no converge after 21 line search refinement iterations. It will now resort to lbfgs instead.\n",
      "  warnings.warn(\n",
      "/home/pjcggf/.pyenv/versions/3.10.6/envs/OC/lib/python3.10/site-packages/sklearn/linear_model/_glm/_newton_solver.py:287: ConvergenceWarning: Line search of Newton solver NewtonCholeskySolver at iteration #6 did no converge after 21 line search refinement iterations. It will now resort to lbfgs instead.\n",
      "  warnings.warn(\n",
      "/home/pjcggf/.pyenv/versions/3.10.6/envs/OC/lib/python3.10/site-packages/sklearn/linear_model/_glm/_newton_solver.py:287: ConvergenceWarning: Line search of Newton solver NewtonCholeskySolver at iteration #6 did no converge after 21 line search refinement iterations. It will now resort to lbfgs instead.\n",
      "  warnings.warn(\n",
      "/home/pjcggf/.pyenv/versions/3.10.6/envs/OC/lib/python3.10/site-packages/sklearn/linear_model/_glm/_newton_solver.py:287: ConvergenceWarning: Line search of Newton solver NewtonCholeskySolver at iteration #6 did no converge after 21 line search refinement iterations. It will now resort to lbfgs instead.\n",
      "  warnings.warn(\n",
      "/home/pjcggf/.pyenv/versions/3.10.6/envs/OC/lib/python3.10/site-packages/sklearn/model_selection/_validation.py:425: FitFailedWarning: \n",
      "66 fits failed out of a total of 726.\n",
      "The score on these train-test partitions for these parameters will be set to nan.\n",
      "If these failures are not expected, you can try to debug them by setting error_score='raise'.\n",
      "\n",
      "Below are more details about the failures:\n",
      "--------------------------------------------------------------------------------\n",
      "66 fits failed with the following error:\n",
      "Traceback (most recent call last):\n",
      "  File \"/home/pjcggf/.pyenv/versions/3.10.6/envs/OC/lib/python3.10/site-packages/sklearn/model_selection/_validation.py\", line 729, in _fit_and_score\n",
      "    estimator.fit(X_train, y_train, **fit_params)\n",
      "  File \"/home/pjcggf/.pyenv/versions/3.10.6/envs/OC/lib/python3.10/site-packages/sklearn/base.py\", line 1152, in wrapper\n",
      "    return fit_method(estimator, *args, **kwargs)\n",
      "  File \"/home/pjcggf/.pyenv/versions/3.10.6/envs/OC/lib/python3.10/site-packages/sklearn/pipeline.py\", line 427, in fit\n",
      "    self._final_estimator.fit(Xt, y, **fit_params_last_step)\n",
      "  File \"/home/pjcggf/.pyenv/versions/3.10.6/envs/OC/lib/python3.10/site-packages/sklearn/base.py\", line 1145, in wrapper\n",
      "    estimator._validate_params()\n",
      "  File \"/home/pjcggf/.pyenv/versions/3.10.6/envs/OC/lib/python3.10/site-packages/sklearn/base.py\", line 638, in _validate_params\n",
      "    validate_parameter_constraints(\n",
      "  File \"/home/pjcggf/.pyenv/versions/3.10.6/envs/OC/lib/python3.10/site-packages/sklearn/utils/_param_validation.py\", line 95, in validate_parameter_constraints\n",
      "    raise InvalidParameterError(\n",
      "sklearn.utils._param_validation.InvalidParameterError: The 'C' parameter of LogisticRegression must be a float in the range (0.0, inf]. Got 0.0 instead.\n",
      "\n",
      "  warnings.warn(some_fits_failed_message, FitFailedWarning)\n",
      "/home/pjcggf/.pyenv/versions/3.10.6/envs/OC/lib/python3.10/site-packages/sklearn/model_selection/_search.py:979: UserWarning: One or more of the test scores are non-finite: [       nan        nan        nan        nan        nan        nan\n",
      "        nan        nan        nan        nan        nan        nan\n",
      "        nan        nan        nan        nan        nan        nan\n",
      "        nan        nan        nan        nan 0.75311971 0.75312323\n",
      " 0.75312323 0.75312323 0.75312323 0.75312323 0.75312323 0.75298943\n",
      " 0.75298943 0.75291784 0.75291784 0.75311971 0.75312205 0.75312205\n",
      " 0.75312205 0.75312205 0.75312205 0.75312205 0.75312205 0.75312205\n",
      " 0.75312205 0.75312205 0.75406441 0.75407261 0.75407261 0.75407261\n",
      " 0.75407261 0.75407261 0.75407261 0.75407261 0.75407261 0.75407261\n",
      " 0.75407261 0.75406324 0.75406206 0.75406206 0.75406206 0.75406206\n",
      " 0.75406206 0.75406206 0.75406206 0.75406206 0.75406206 0.75406206\n",
      " 0.75500912 0.7550056  0.7550056  0.7550056  0.7550056  0.7550056\n",
      " 0.7550056  0.7550056  0.7550056  0.7550056  0.7550056  0.75500912\n",
      " 0.75502553 0.75502553 0.75502553 0.75502553 0.75502553 0.75502553\n",
      " 0.75502553 0.75502553 0.75502553 0.75502553 0.7559362  0.7559444\n",
      " 0.7559444  0.7559444  0.7559444  0.7559444  0.7559444  0.7559444\n",
      " 0.7559444  0.7559444  0.7559444  0.7559362  0.7559362  0.75596198\n",
      " 0.75596198 0.75596198 0.75596198 0.75596198 0.75596198 0.75596198\n",
      " 0.75596198 0.75596198 0.75679525 0.75679058 0.75679058 0.75679058\n",
      " 0.75679058 0.75679058 0.75679058 0.75679058 0.75679058 0.75679058\n",
      " 0.75679058 0.75679642 0.75679642 0.75680349 0.75680349 0.75680349\n",
      " 0.75680349 0.75680349 0.75680349 0.75680349 0.75680349 0.75680349\n",
      " 0.75757833 0.75762052 0.75762052 0.75762052 0.75762052 0.75762052\n",
      " 0.75762052 0.75762052 0.75762052 0.75762052 0.75762052 0.75757833\n",
      " 0.75757833 0.75765332 0.75765332 0.75765332 0.75765332 0.75765332\n",
      " 0.75765332 0.75765332 0.75765332 0.75765332 0.75822879 0.75823936\n",
      " 0.75826044 0.75826044 0.75826044 0.75826044 0.75826044 0.75826044\n",
      " 0.75826044 0.75826044 0.75826044 0.75822762 0.75822762 0.75831205\n",
      " 0.75831205 0.75831205 0.75831205 0.75831205 0.75831205 0.75831205\n",
      " 0.75831205 0.75831205 0.75879851 0.75882195 0.75882547 0.75882547\n",
      " 0.75882547 0.75882547 0.75882547 0.75882547 0.75882547 0.75882547\n",
      " 0.75882547 0.75879851 0.75879851 0.7588654  0.75893335 0.75893335\n",
      " 0.75893335 0.75893335 0.75893335 0.75893335 0.75893335 0.75893335\n",
      " 0.7593752  0.75938928 0.75941037 0.75941037 0.75941037 0.75941037\n",
      " 0.75941037 0.75941037 0.75941037 0.75941037 0.75943263 0.75937637\n",
      " 0.75937637 0.75937637 0.75950061 0.75950061 0.75950061 0.75950061\n",
      " 0.75950061 0.75950061 0.75950061 0.75950061 0.75984515 0.75984866\n",
      " 0.7598815  0.7598815  0.7598979  0.7598979  0.7598979  0.7598979\n",
      " 0.7598979  0.7598979  0.75990728 0.75984515 0.75984632 0.75984632\n",
      " 0.75996595 0.75996595 0.75996595 0.75996595 0.75996595 0.75996595\n",
      " 0.75996595 0.75996595]\n",
      "  warnings.warn(\n"
     ]
    },
    {
     "data": {
      "text/plain": [
       "{'logisticregression__C': 0.2,\n",
       " 'logisticregression__penalty': 'l2',\n",
       " 'logisticregression__solver': 'newton-cholesky',\n",
       " 'logisticregression__tol': 0.06}"
      ]
     },
     "execution_count": 11,
     "metadata": {},
     "output_type": "execute_result"
    }
   ],
   "source": [
    "\n",
    "grid_search_classic_solver = GridSearchCV(\n",
    "    pipe_LR,\n",
    "    param_grid={\n",
    "        \n",
    "        'logisticregression__C': [i/100 for i in range(0, 21, 2)],\n",
    "        'logisticregression__tol': [i/100 for i in range(0, 21, 2)],\n",
    "        'logisticregression__penalty': ['l2'],\n",
    "        'logisticregression__solver': ['lbfgs', 'newton-cholesky']\n",
    "    },\n",
    "    cv=3,\n",
    "    n_jobs=-2,\n",
    "    verbose=1,\n",
    "    scoring=\"roc_auc\")\n",
    "grid_search_classic_solver.fit(X_train.apply(' '.join), y_train)\n",
    "grid_search_classic_solver.best_params_\n"
   ]
  },
  {
   "cell_type": "code",
   "execution_count": 12,
   "id": "716bb73a",
   "metadata": {
    "ExecuteTime": {
     "end_time": "2023-11-04T07:36:08.817534Z",
     "start_time": "2023-11-04T07:36:08.815021Z"
    }
   },
   "outputs": [],
   "source": [
    "pipe_LR = grid_search_classic_solver.best_estimator_"
   ]
  },
  {
   "cell_type": "code",
   "execution_count": 13,
   "id": "10263d7e",
   "metadata": {
    "ExecuteTime": {
     "end_time": "2023-11-04T07:36:08.877553Z",
     "start_time": "2023-11-04T07:36:08.862667Z"
    }
   },
   "outputs": [
    {
     "name": "stdout",
     "output_type": "stream",
     "text": [
      "Accuracy = 0.68\n",
      "Precision = 0.65\n",
      "Recall = 0.77\n"
     ]
    }
   ],
   "source": [
    "y_pred = pipe_LR.predict(X_test.apply(' '.join))\n",
    "\n",
    "accuracy = accuracy_score(y_test, y_pred)\n",
    "precision = precision_score(y_test, y_pred)\n",
    "recall = recall_score(y_test, y_pred)\n",
    "\n",
    "print('Accuracy =', round(accuracy, 2)) \n",
    "print('Precision =', round(precision, 2))\n",
    "print('Recall =', round(recall, 2))\n"
   ]
  },
  {
   "cell_type": "code",
   "execution_count": 18,
   "id": "7addf370",
   "metadata": {
    "ExecuteTime": {
     "end_time": "2023-11-04T08:55:01.229467Z",
     "start_time": "2023-11-04T08:54:59.554418Z"
    }
   },
   "outputs": [
    {
     "name": "stderr",
     "output_type": "stream",
     "text": [
      "/home/pjcggf/.pyenv/versions/3.10.6/envs/OC/lib/python3.10/site-packages/mlflow/models/signature.py:362: UserWarning: Hint: Inferred schema contains integer column(s). Integer columns in Python cannot represent missing values. If your input data contains missing values at inference time, it will be encoded as floats and will cause a schema enforcement error. The best way to avoid this problem is to infer the model schema based on a realistic data sample (training dataset) that includes missing values. Alternatively, you can declare integer columns as doubles (float64) whenever these columns may have missing values. See `Handling Integers With Missing Values <https://www.mlflow.org/docs/latest/models.html#handling-integers-with-missing-values>`_ for more details.\n",
      "  output_schema = _infer_schema(prediction)\n",
      "/home/pjcggf/.pyenv/versions/3.10.6/envs/OC/lib/python3.10/site-packages/_distutils_hack/__init__.py:33: UserWarning: Setuptools is replacing distutils.\n",
      "  warnings.warn(\"Setuptools is replacing distutils.\")\n"
     ]
    }
   ],
   "source": [
    "mlflow.set_tracking_uri(\"http://127.0.0.1:8080\")\n",
    "modele_simple_experiment = mlflow.set_experiment(\"modele_simple\")\n",
    "\n",
    "\n",
    "# Nom de l'itération en cours et chemin de stockage du modèle\n",
    "run_name = \"modele_simple_RL_test\"\n",
    "artifact_path = \"RL_simple\"\n",
    "\n",
    "metrics = {\"accuracy\": accuracy, \"precision\": precision, \"recall\": recall}\n",
    "\n",
    "# Information sur le dataset utilisé\n",
    "dataset: PandasDataset = mlflow.data.from_pandas(df=pd.DataFrame(X_train))\n",
    "\n",
    "with mlflow.start_run(run_name=run_name) as run:\n",
    "    # paramètres du modèle\n",
    "    mlflow.log_params(grid_search_classic_solver.best_params_)\n",
    "\n",
    "    # Métriques\n",
    "    mlflow.log_metrics(metrics)\n",
    "\n",
    "\n",
    "    # Log d'une instance du modèle fitée\n",
    "    mlflow.sklearn.log_model(sk_model=pipe_LR, input_example=pd.DataFrame(X_test), artifact_path=artifact_path)\n",
    "    \n",
    "    # Log des paramètres du dataset.\n",
    "    mlflow.log_input(dataset, context=\"training\")\n",
    "\n"
   ]
  },
  {
   "cell_type": "markdown",
   "id": "0e2368bd",
   "metadata": {},
   "source": [
    "# Modèle RNN"
   ]
  },
  {
   "cell_type": "code",
   "execution_count": 2,
   "id": "d5edef12",
   "metadata": {
    "ExecuteTime": {
     "end_time": "2023-11-04T10:50:24.035240Z",
     "start_time": "2023-11-04T10:50:24.028776Z"
    }
   },
   "outputs": [],
   "source": [
    "def plot_loss_accuracy(history):\n",
    "    fig = plt.figure(figsize=(10,6))\n",
    "    try:\n",
    "        fig.suptitle(f'Résultats des métriques du modèle {history.model.name}')\n",
    "    except:\n",
    "            fig.suptitle('Résultats des métriques du modèle.')\n",
    "    \n",
    "    ax1 = fig.add_subplot(2,2,1)\n",
    "    ax1.plot(history.history['loss'])\n",
    "    ax1.plot(history.history['val_loss'])\n",
    "    ax1.set_title('Model loss')\n",
    "    ax1.set_ylabel('Loss')\n",
    "    ax1.set_xlabel('Epoch')\n",
    "    ax1.legend(['Train', 'Test'], loc='best')\n",
    "\n",
    "    ax2 = fig.add_subplot(2,2,2)\n",
    "    ax2.plot(history.history['accuracy'])\n",
    "    ax2.plot(history.history['val_accuracy'])\n",
    "    ax2.set_title('Model Accuracy')\n",
    "    ax2.set_ylabel('Accuracy')\n",
    "    ax2.set_xlabel('Epoch')\n",
    "    ax2.legend(['Train', 'Test'], loc='best')\n",
    "\n",
    "\n",
    "    ax3 = fig.add_subplot(2,2,3)\n",
    "    ax3.plot(history.history[list(history.history.keys())[2]])\n",
    "    ax3.plot(history.history[list(history.history.keys())[6]])\n",
    "    ax3.set_title('Model Precision')\n",
    "    ax3.set_ylabel('Precision')\n",
    "    ax3.set_xlabel('Epoch')\n",
    "    ax3.legend(['Train', 'Test'], loc='best')\n",
    "\n",
    "    ax4 = fig.add_subplot(2,2,4)\n",
    "    ax4.plot(history.history[list(history.history.keys())[3]])\n",
    "    ax4.plot(history.history[list(history.history.keys())[-1]])\n",
    "    ax4.set_title('Model Recall')\n",
    "    ax4.set_ylabel('Recall')\n",
    "    ax4.set_xlabel('Epoch')\n",
    "    ax4.legend(['Train', 'Test'], loc='best')\n",
    "    fig.tight_layout(pad=3, h_pad=2)\n",
    "\n",
    "    plt.show()\n"
   ]
  },
  {
   "cell_type": "markdown",
   "id": "5e6da1ae",
   "metadata": {},
   "source": [
    "## Modèle simple Embedding basique + RNN "
   ]
  },
  {
   "cell_type": "code",
   "execution_count": 32,
   "id": "264093e8",
   "metadata": {
    "ExecuteTime": {
     "end_time": "2023-11-02T09:45:14.720500Z",
     "start_time": "2023-11-02T09:45:14.696424Z"
    }
   },
   "outputs": [],
   "source": [
    "# Déclaration à faire à la première utilisation uniquement.\n",
    "\n",
    "# experiment_description = (\n",
    "#     \"P7 OC : Détection de bad buzz dans des tweets\"\n",
    "#     \"Cette expérimentation se fait sur les données prepocessées normalisées passées à un RNN custom.\"\n",
    "# )\n",
    "\n",
    "# experiment_tags = {\n",
    "#     \"project_name\": \"P7_Detecter_bad_buz\",\n",
    "#     \"model_classif\": \"rnn_custom\",\n",
    "#     \"mlflow.note.content\": experiment_description,\n",
    "# }\n",
    "\n",
    "# modele_simple_experiment = client.create_experiment(name=\"rnn_custom\", tags=experiment_tags)\n"
   ]
  },
  {
   "cell_type": "code",
   "execution_count": 3,
   "id": "414e5a8f",
   "metadata": {
    "ExecuteTime": {
     "end_time": "2023-11-04T10:50:42.497292Z",
     "start_time": "2023-11-04T10:50:37.670155Z"
    },
    "scrolled": false
   },
   "outputs": [
    {
     "name": "stdout",
     "output_type": "stream",
     "text": [
      "new dataframe size:  37421.14 kB\n",
      "optimized size by 29.0 %\n",
      "new dataframe size:  26506.68  kB\n"
     ]
    },
    {
     "data": {
      "application/vnd.jupyter.widget-view+json": {
       "model_id": "029fc738d89a4da9918efdfb411d6a3a",
       "version_major": 2,
       "version_minor": 0
      },
      "text/plain": [
       "CLEANING_TEXT_LEMMA DONE:   0%|          | 0/70000 [00:00<?, ?it/s]"
      ]
     },
     "metadata": {},
     "output_type": "display_data"
    },
    {
     "data": {
      "application/vnd.jupyter.widget-view+json": {
       "model_id": "3de12d9e39594d91a4a5fb17eb8c6ace",
       "version_major": 2,
       "version_minor": 0
      },
      "text/plain": [
       "VMEM USAGE: 32.1%|###2      |  15.2G"
      ]
     },
     "metadata": {},
     "output_type": "display_data"
    }
   ],
   "source": [
    "df = import_data()\n",
    "X_train, X_val, X_test, y_train, y_val, y_test = get_train_val_and_test_set(\n",
    "    df, sample=True, sample_size=70_000)"
   ]
  },
  {
   "cell_type": "code",
   "execution_count": 4,
   "id": "6922f46a",
   "metadata": {
    "ExecuteTime": {
     "end_time": "2023-11-04T10:51:09.309835Z",
     "start_time": "2023-11-04T10:51:08.813175Z"
    }
   },
   "outputs": [
    {
     "name": "stdout",
     "output_type": "stream",
     "text": [
      "There are 31343 different words in the train set\n"
     ]
    }
   ],
   "source": [
    "# This initializes a Keras utilities that does all the tokenization for you\n",
    "tokenizer = Tokenizer()\n",
    "\n",
    "# The tokenization learns a dictionary that maps a token (integer) to each word\n",
    "# It can be done only on the train set - we are not supposed to know the test set!\n",
    "# This tokenization also lowercases your words, apply some filters, and so on - you can check the doc if you want\n",
    "tokenizer.fit_on_texts(X_train)\n",
    "    \n",
    "# We apply the tokenization to the train and test set\n",
    "X_train_token = tokenizer.texts_to_sequences(X_train)\n",
    "X_val_token = tokenizer.texts_to_sequences(X_val)\n",
    "X_test_token = tokenizer.texts_to_sequences(X_test)\n",
    "\n",
    "vocab_size = len(tokenizer.word_index)\n",
    "\n",
    "print(f'There are {vocab_size} different words in the train set')\n",
    "SEQUENCE_LENGTH = 50\n",
    "\n",
    "X_train_pad = pad_sequences(X_train_token, dtype='float32', padding='post', maxlen=SEQUENCE_LENGTH)\n",
    "X_val_pad = pad_sequences(X_val_token, dtype='float32', padding='post', maxlen=SEQUENCE_LENGTH)\n",
    "X_test_pad = pad_sequences(X_test_token, dtype='float32', padding='post', maxlen=SEQUENCE_LENGTH)\n",
    "\n",
    "del X_train_token, X_val_token, X_test_token"
   ]
  },
  {
   "cell_type": "code",
   "execution_count": 120,
   "id": "8985669d",
   "metadata": {
    "ExecuteTime": {
     "end_time": "2023-11-04T13:40:35.918053Z",
     "start_time": "2023-11-04T13:40:35.776122Z"
    },
    "scrolled": false
   },
   "outputs": [
    {
     "name": "stdout",
     "output_type": "stream",
     "text": [
      "Model: \"Embedding_basique_RNN_LSTM_Biredctionnel\"\n",
      "_________________________________________________________________\n",
      " Layer (type)                Output Shape              Param #   \n",
      "=================================================================\n",
      " embedding_36 (Embedding)    (None, None, 60)          1880640   \n",
      "                                                                 \n",
      " bidirectional_5 (Bidirecti  (None, 40)                12960     \n",
      " onal)                                                           \n",
      "                                                                 \n",
      " dense_72 (Dense)            (None, 20)                820       \n",
      "                                                                 \n",
      " dense_73 (Dense)            (None, 1)                 21        \n",
      "                                                                 \n",
      "=================================================================\n",
      "Total params: 1894441 (7.23 MB)\n",
      "Trainable params: 1894441 (7.23 MB)\n",
      "Non-trainable params: 0 (0.00 Byte)\n",
      "_________________________________________________________________\n"
     ]
    }
   ],
   "source": [
    "precision = Precision()\n",
    "recall = Recall()\n",
    "# Régularisation pour contrer l'overfitting\n",
    "reg_l1 = regularizers.L1(0.001)\n",
    "\n",
    "embedding_dimension = 60\n",
    "\n",
    "model = Sequential(name='Embedding_basique_RNN_LSTM_Biredctionnel')\n",
    "model.add(\n",
    "    Embedding(input_dim=vocab_size + 1,\n",
    "              output_dim=embedding_dimension,\n",
    "              mask_zero=True))\n",
    "model.add(Bidirectional(LSTM(20, activation='tanh', dropout=.2, recurrent_dropout=.3, kernel_regularizer=reg_l1)))\n",
    "# model.add(LSTM(30, activation='tanh', dropout=.3, recurrent_dropout=.5))\n",
    "model.add(Dense(20, activation='relu'))\n",
    "model.add(Dense(1, activation='sigmoid'))\n",
    "\n",
    "model.compile(loss='binary_crossentropy',\n",
    "              optimizer='adam',\n",
    "              metrics=['accuracy', precision, recall])\n",
    "\n",
    "model.summary()\n"
   ]
  },
  {
   "cell_type": "code",
   "execution_count": 121,
   "id": "67207205",
   "metadata": {
    "ExecuteTime": {
     "end_time": "2023-11-04T13:41:51.435378Z",
     "start_time": "2023-11-04T13:40:36.549216Z"
    },
    "scrolled": false
   },
   "outputs": [
    {
     "name": "stdout",
     "output_type": "stream",
     "text": [
      "Epoch 1/1000\n",
      "350/350 [==============================] - 11s 28ms/step - loss: 0.7931 - accuracy: 0.7119 - precision_36: 0.7282 - recall_36: 0.6746 - val_loss: 0.5368 - val_accuracy: 0.7504 - val_precision_36: 0.7238 - val_recall_36: 0.8068\n",
      "Epoch 2/1000\n",
      "350/350 [==============================] - 9s 27ms/step - loss: 0.4630 - accuracy: 0.8012 - precision_36: 0.7960 - recall_36: 0.8092 - val_loss: 0.5293 - val_accuracy: 0.7511 - val_precision_36: 0.7270 - val_recall_36: 0.8013\n",
      "Epoch 3/1000\n",
      "350/350 [==============================] - 10s 27ms/step - loss: 0.3957 - accuracy: 0.8352 - precision_36: 0.8330 - recall_36: 0.8378 - val_loss: 0.5655 - val_accuracy: 0.7396 - val_precision_36: 0.7288 - val_recall_36: 0.7600\n",
      "Epoch 4/1000\n",
      "350/350 [==============================] - 10s 28ms/step - loss: 0.3488 - accuracy: 0.8575 - precision_36: 0.8562 - recall_36: 0.8586 - val_loss: 0.6039 - val_accuracy: 0.7274 - val_precision_36: 0.7393 - val_recall_36: 0.6996\n",
      "Epoch 5/1000\n",
      "350/350 [==============================] - 10s 28ms/step - loss: 0.3154 - accuracy: 0.8730 - precision_36: 0.8723 - recall_36: 0.8734 - val_loss: 0.6494 - val_accuracy: 0.7228 - val_precision_36: 0.7209 - val_recall_36: 0.7238\n",
      "Epoch 6/1000\n",
      "350/350 [==============================] - 11s 30ms/step - loss: 0.2905 - accuracy: 0.8846 - precision_36: 0.8844 - recall_36: 0.8843 - val_loss: 0.6783 - val_accuracy: 0.7188 - val_precision_36: 0.7123 - val_recall_36: 0.7306\n",
      "Epoch 7/1000\n",
      "350/350 [==============================] - 11s 32ms/step - loss: 0.2656 - accuracy: 0.8974 - precision_36: 0.8969 - recall_36: 0.8976 - val_loss: 0.7166 - val_accuracy: 0.7150 - val_precision_36: 0.7149 - val_recall_36: 0.7118\n",
      "\n",
      "\n",
      "\n",
      "Métriques du modèle:\n",
      "\n",
      "- Loss:0.5380362868309021\n",
      "\n",
      "- Accuracy:0.7427856922149658\n",
      "\n",
      "- Precision:0.7160395979881287\n",
      "\n",
      "- Recall:0.7890602350234985\n"
     ]
    }
   ],
   "source": [
    "es = EarlyStopping(patience=5, restore_best_weights=True)\n",
    "\n",
    "history = model.fit(\n",
    "    X_train_pad,\n",
    "    y_train,\n",
    "    batch_size=128,\n",
    "    epochs=1000,\n",
    "    #   Possibilité d'utiliser validation_split si utilisation uniquement d'un train + test set\n",
    "    #   validation_split=.3,\n",
    "    validation_data=(X_val_pad, y_val),\n",
    "    callbacks=[es],\n",
    "    workers=15,\n",
    "    use_multiprocessing=True)\n",
    "\n",
    "res = model.evaluate(X_test_pad, y_test, verbose=0, return_dict=True)\n",
    "print(f\"\"\"\\n\\n\n",
    "Métriques du modèle:\\n\n",
    "- Loss:{list(res.items())[0][1]}\\n\n",
    "- Accuracy:{list(res.items())[1][1]}\\n\n",
    "- Precision:{list(res.items())[2][1]}\\n\n",
    "- Recall:{list(res.items())[3][1]}\"\"\")"
   ]
  },
  {
   "cell_type": "code",
   "execution_count": 122,
   "id": "1135df44",
   "metadata": {
    "ExecuteTime": {
     "end_time": "2023-11-04T13:41:51.724715Z",
     "start_time": "2023-11-04T13:41:51.462923Z"
    },
    "scrolled": false
   },
   "outputs": [
    {
     "data": {
      "image/png": "[encoded data removed]",
      "text/plain": [
       "<Figure size 1000x600 with 4 Axes>"
      ]
     },
     "metadata": {},
     "output_type": "display_data"
    }
   ],
   "source": [
    "plot_loss_accuracy(history)"
   ]
  },
  {
   "cell_type": "code",
   "execution_count": 123,
   "id": "00b725f3",
   "metadata": {
    "ExecuteTime": {
     "end_time": "2023-11-04T13:42:05.226582Z",
     "start_time": "2023-11-04T13:41:51.749175Z"
    }
   },
   "outputs": [
    {
     "name": "stdout",
     "output_type": "stream",
     "text": [
      "438/438 [==============================] - 3s 7ms/step\n",
      "INFO:tensorflow:Assets written to: /tmp/tmpv_r_ofkn/model/data/model/assets\n"
     ]
    },
    {
     "name": "stderr",
     "output_type": "stream",
     "text": [
      "INFO:tensorflow:Assets written to: /tmp/tmpv_r_ofkn/model/data/model/assets\n",
      "Registered model 'Embedding_basique_RNN_LSTM_Biredctionnel' already exists. Creating a new version of this model...\n",
      "2023/11/04 14:42:05 INFO mlflow.store.model_registry.abstract_store: Waiting up to 300 seconds for model version to finish creation. Model name: Embedding_basique_RNN_LSTM_Biredctionnel, version 2\n",
      "Created version '2' of model 'Embedding_basique_RNN_LSTM_Biredctionnel'.\n"
     ]
    }
   ],
   "source": [
    "mlflow.set_tracking_uri(\"http://127.0.0.1:8080\")\n",
    "modele_simple_experiment = mlflow.set_experiment(\"rnn_custom\")\n",
    "\n",
    "# Nom de l'itération en cours et chemin de stockage du modèle\n",
    "run_name = \"rnn_custom_iter_2\"\n",
    "artifact_path = \"RNN_custom\"\n",
    "\n",
    "metrics = {\n",
    "    \"accuracy\": res['accuracy'],\n",
    "    \"precision\": list(res.items())[2][1],\n",
    "    \"recall\": list(res.items())[3][1]\n",
    "}\n",
    "\n",
    "# Information sur le dataset utilisé\n",
    "dataset: PandasDataset = mlflow.data.from_numpy(X_train_pad, targets=y_train)\n",
    "\n",
    "signature = mlflow.models.infer_signature(X_test_pad, model.predict(X_test_pad))\n",
    "\n",
    "with mlflow.start_run(run_name=run_name) as run:\n",
    "\n",
    "    # Métriques\n",
    "    mlflow.log_metrics(metrics)\n",
    "\n",
    "    # Log d'une instance du modèle fitée\n",
    "    mlflow.tensorflow.log_model(model=model,\n",
    "                             input_example=X_test_pad,\n",
    "                             artifact_path=artifact_path,\n",
    "                               signature=signature,\n",
    "                               registered_model_name=history.model.name)\n",
    "\n",
    "    # Log des paramètres du dataset.\n",
    "    mlflow.log_input(dataset, context=\"training\")"
   ]
  },
  {
   "cell_type": "markdown",
   "id": "a9af4656",
   "metadata": {},
   "source": [
    "## Modèle avancé Word2vec - RNN"
   ]
  },
  {
   "cell_type": "markdown",
   "id": "be005e48",
   "metadata": {},
   "source": [
    "Créer un validation test pour itérer sur traain/ val puis test final du meilleur modèle sur le test\n",
    "\n",
    "2\n",
    "Modèle avec word2vec pré-entrainé\n",
    "modele fastext ou glove\n",
    "\n",
    "modele bert\n",
    "\n",
    "démarche optionnelle d’embedding via USE est mise en oeuvre"
   ]
  },
  {
   "cell_type": "code",
   "execution_count": 2,
   "id": "1f27d6ec",
   "metadata": {
    "ExecuteTime": {
     "end_time": "2023-11-04T14:39:09.068258Z",
     "start_time": "2023-11-04T14:39:03.337434Z"
    },
    "scrolled": false
   },
   "outputs": [
    {
     "name": "stdout",
     "output_type": "stream",
     "text": [
      "new dataframe size:  37421.14 kB\n",
      "optimized size by 29.0 %\n",
      "new dataframe size:  26506.68  kB\n"
     ]
    },
    {
     "data": {
      "application/vnd.jupyter.widget-view+json": {
       "model_id": "278da3278d0949d0b9339c137a0bb56e",
       "version_major": 2,
       "version_minor": 0
      },
      "text/plain": [
       "CLEANING_TEXT_LEMMA DONE:   0%|          | 0/70000 [00:00<?, ?it/s]"
      ]
     },
     "metadata": {},
     "output_type": "display_data"
    },
    {
     "data": {
      "application/vnd.jupyter.widget-view+json": {
       "model_id": "0a67539ee3584ba7a210c3033462258e",
       "version_major": 2,
       "version_minor": 0
      },
      "text/plain": [
       "VMEM USAGE: 45.4%|####5     |  15.2G"
      ]
     },
     "metadata": {},
     "output_type": "display_data"
    }
   ],
   "source": [
    "df = import_data()\n",
    "X_train, X_val, X_test, y_train, y_val, y_test = get_train_val_and_test_set(\n",
    "    df, sample=True, sample_size=70_000)"
   ]
  },
  {
   "cell_type": "code",
   "execution_count": 3,
   "id": "8c264a0e",
   "metadata": {
    "ExecuteTime": {
     "end_time": "2023-11-04T14:39:09.400955Z",
     "start_time": "2023-11-04T14:39:09.098880Z"
    }
   },
   "outputs": [
    {
     "name": "stdout",
     "output_type": "stream",
     "text": [
      "['fasttext-wiki-news-subwords-300', 'conceptnet-numberbatch-17-06-300', 'word2vec-ruscorpora-300', 'word2vec-google-news-300', 'glove-wiki-gigaword-50', 'glove-wiki-gigaword-100', 'glove-wiki-gigaword-200', 'glove-wiki-gigaword-300', 'glove-twitter-25', 'glove-twitter-50', 'glove-twitter-100', 'glove-twitter-200', '__testing_word2vec-matrix-synopsis']\n"
     ]
    }
   ],
   "source": [
    "import gensim.downloader\n",
    "\n",
    "print(list(gensim.downloader.info()['models'].keys()))"
   ]
  },
  {
   "cell_type": "code",
   "execution_count": 4,
   "id": "e48657b0",
   "metadata": {
    "ExecuteTime": {
     "end_time": "2023-11-04T14:39:09.428351Z",
     "start_time": "2023-11-04T14:39:09.426079Z"
    },
    "scrolled": true
   },
   "outputs": [],
   "source": [
    "# twitter_50_wv = gensim.downloader.load('glove-twitter-50')\n",
    "# twitter_100_wv = gensim.downloader.load('glove-twitter-100')\n",
    "# twitter_200_wv = gensim.downloader.load('glove-twitter-200')\n",
    "# wiki_gigaword_100_wv = gensim.downloader.load('glove-wiki-gigaword-100')\n",
    "# google_news_100_wv = gensim.downloader.load('word2vec-google-news-300')\n"
   ]
  },
  {
   "attachments": {
    "comparaison_taille_dict_trained_word2vec.png": {
     "image/png": "[encoded data removed]"
    }
   },
   "cell_type": "markdown",
   "id": "1c10a3b2",
   "metadata": {},
   "source": [
    "![comparaison des tailles de dict préentrainé word2vec](attachment:comparaison_taille_dict_trained_word2vec.png)"
   ]
  },
  {
   "cell_type": "code",
   "execution_count": 5,
   "id": "1d5288bf",
   "metadata": {
    "ExecuteTime": {
     "end_time": "2023-11-04T14:40:01.713646Z",
     "start_time": "2023-11-04T14:39:09.455762Z"
    },
    "scrolled": true
   },
   "outputs": [
    {
     "name": "stdout",
     "output_type": "stream",
     "text": [
      "Vocabulary size: 1193514\n",
      "Number of different words in the train set 31343\n"
     ]
    }
   ],
   "source": [
    "twitter_wv = gensim.downloader.load('glove-twitter-100')\n",
    "vocab_size = len(twitter_wv.key_to_index)\n",
    "print('Vocabulary size:', vocab_size)\n",
    "diff_words = set([_ for elt in X_train for _ in elt])\n",
    "print('Number of different words in the train set', len(diff_words))\n",
    "del diff_words"
   ]
  },
  {
   "cell_type": "code",
   "execution_count": 6,
   "id": "c4903aec",
   "metadata": {
    "ExecuteTime": {
     "end_time": "2023-11-04T14:40:02.531623Z",
     "start_time": "2023-11-04T14:40:01.736267Z"
    }
   },
   "outputs": [],
   "source": [
    "# Fonction pour convertir un tweet en une matrice (aka tableau de vecteurs) contenant les représentations\n",
    "# vectorielle de chaque mots dans l'espace de plongement\n",
    "def embed_sentence(wv, sentence):\n",
    "    embedded_sentence = []\n",
    "    for word in sentence:\n",
    "        # On vérifie si le mot fait bien partie du dictionnaire final\n",
    "        # (peut-être exclue car trop ou pas assez fréquent).\n",
    "        if word in wv:\n",
    "            embedded_sentence.append(wv[word])\n",
    "        \n",
    "    return np.array(embedded_sentence)\n",
    "\n",
    "# Function that converts a list of sentences into a list of matrices\n",
    "def embedding(wv, sentences):\n",
    "    embed = []\n",
    "    \n",
    "    for sentence in sentences:\n",
    "        embedded_sentence = embed_sentence(wv, sentence)\n",
    "        embed.append(embedded_sentence)\n",
    "        \n",
    "    return embed\n",
    "\n",
    "# # Embed the training and test sentences\n",
    "X_train_embed = embedding(twitter_wv, X_train)\n",
    "X_val_embed = embedding(twitter_wv, X_val)\n",
    "X_test_embed = embedding(twitter_wv, X_test)\n",
    "\n",
    "# # Pad the training and test embedded sentences\n",
    "# X_train_pad = pad_sequences(X_train_embed, dtype='float16', padding='post', maxlen=SEQUENCE_LENGTH)\n",
    "# X_val_pad = pad_sequences(X_val_embed, dtype='float16', padding='post', maxlen=SEQUENCE_LENGTH)\n",
    "# X_test_pad = pad_sequences(X_test_embed, dtype='float16', padding='post', maxlen=SEQUENCE_LENGTH)\n",
    "\n",
    "# del X_train_embed, X_val_embed, X_test_embed"
   ]
  },
  {
   "cell_type": "code",
   "execution_count": null,
   "id": "3fecddae",
   "metadata": {
    "ExecuteTime": {
     "start_time": "2023-11-04T14:41:54.688Z"
    }
   },
   "outputs": [],
   "source": [
    "type(X_train_embed)"
   ]
  },
  {
   "cell_type": "code",
   "execution_count": 7,
   "id": "96a5c375",
   "metadata": {
    "ExecuteTime": {
     "end_time": "2023-11-04T14:41:35.754381Z",
     "start_time": "2023-11-04T14:41:35.741851Z"
    }
   },
   "outputs": [
    {
     "ename": "NameError",
     "evalue": "name 'X_train_pad' is not defined",
     "output_type": "error",
     "traceback": [
      "\u001b[0;31m---------------------------------------------------------------------------\u001b[0m",
      "\u001b[0;31mNameError\u001b[0m                                 Traceback (most recent call last)",
      "Cell \u001b[0;32mIn [7], line 1\u001b[0m\n\u001b[0;32m----> 1\u001b[0m \u001b[38;5;28;01mfor\u001b[39;00m X \u001b[38;5;129;01min\u001b[39;00m [\u001b[43mX_train_pad\u001b[49m, X_test_pad]:\n\u001b[1;32m      2\u001b[0m     \u001b[38;5;28;01massert\u001b[39;00m \u001b[38;5;28mtype\u001b[39m(X) \u001b[38;5;241m==\u001b[39m np\u001b[38;5;241m.\u001b[39mndarray\n\u001b[1;32m      3\u001b[0m     \u001b[38;5;28;01massert\u001b[39;00m X\u001b[38;5;241m.\u001b[39mshape[\u001b[38;5;241m-\u001b[39m\u001b[38;5;241m1\u001b[39m] \u001b[38;5;241m==\u001b[39m wv\u001b[38;5;241m.\u001b[39mvector_size\n",
      "\u001b[0;31mNameError\u001b[0m: name 'X_train_pad' is not defined"
     ]
    }
   ],
   "source": [
    "for X in [X_train_pad, X_test_pad]:\n",
    "    assert type(X) == np.ndarray\n",
    "    assert X.shape[-1] == wv.vector_size\n",
    "\n",
    "\n",
    "assert X_train_pad.shape[0] == len(X_train)\n",
    "assert X_test_pad.shape[0] == len(X_test)\n",
    "\n",
    "del X, X_train, X_test\n"
   ]
  },
  {
   "cell_type": "code",
   "execution_count": null,
   "id": "bc0ef215",
   "metadata": {},
   "outputs": [],
   "source": []
  }
 ],
 "metadata": {
  "kernelspec": {
   "display_name": "Python 3 (ipykernel)",
   "language": "python",
   "name": "python3"
  },
  "language_info": {
   "codemirror_mode": {
    "name": "ipython",
    "version": 3
   },
   "file_extension": ".py",
   "mimetype": "text/x-python",
   "name": "python",
   "nbconvert_exporter": "python",
   "pygments_lexer": "ipython3",
   "version": "3.10.6"
  },
  "latex_envs": {
   "LaTeX_envs_menu_present": true,
   "autoclose": false,
   "autocomplete": true,
   "bibliofile": "biblio.bib",
   "cite_by": "apalike",
   "current_citInitial": 1,
   "eqLabelWithNumbers": true,
   "eqNumInitial": 1,
   "hotkeys": {
    "equation": "Ctrl-E",
    "itemize": "Ctrl-I"
   },
   "labels_anchors": false,
   "latex_user_defs": false,
   "report_style_numbering": false,
   "user_envs_cfg": false
  },
  "notify_time": "5",
  "toc": {
   "base_numbering": 1,
   "nav_menu": {},
   "number_sections": true,
   "sideBar": true,
   "skip_h1_title": false,
   "title_cell": "Table of Contents",
   "title_sidebar": "Contents",
   "toc_cell": false,
   "toc_position": {
    "height": "calc(100% - 180px)",
    "left": "10px",
    "top": "150px",
    "width": "384px"
   },
   "toc_section_display": true,
   "toc_window_display": true
  },
  "varInspector": {
   "cols": {
    "lenName": 16,
    "lenType": 16,
    "lenVar": 40
   },
   "kernels_config": {
    "python": {
     "delete_cmd_postfix": "",
     "delete_cmd_prefix": "del ",
     "library": "var_list.py",
     "varRefreshCmd": "print(var_dic_list())"
    },
    "r": {
     "delete_cmd_postfix": ") ",
     "delete_cmd_prefix": "rm(",
     "library": "var_list.r",
     "varRefreshCmd": "cat(var_dic_list()) "
    }
   },
   "position": {
    "height": "358.85px",
    "left": "1544px",
    "right": "20px",
    "top": "120px",
    "width": "356px"
   },
   "types_to_exclude": [
    "module",
    "function",
    "builtin_function_or_method",
    "instance",
    "_Feature"
   ],
   "window_display": false
  }
 },
 "nbformat": 4,
 "nbformat_minor": 5
}
